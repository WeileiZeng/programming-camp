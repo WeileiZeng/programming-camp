{
 "cells": [
  {
   "cell_type": "markdown",
   "metadata": {},
   "source": [
    "## Week 1 : overview\n",
    "- Name: weilei\n",
    "- date: July 8\n",
    "\n",
    "... more notes ..."
   ]
  },
  {
   "cell_type": "markdown",
   "metadata": {},
   "source": [
    "This is a markdown cell"
   ]
  },
  {
   "cell_type": "code",
   "execution_count": 1,
   "metadata": {},
   "outputs": [
    {
     "name": "stdout",
     "output_type": "stream",
     "text": [
      "0.1\n",
      "hello\n",
      "hello\n"
     ]
    },
    {
     "data": {
      "text/plain": [
       "10"
      ]
     },
     "execution_count": 1,
     "metadata": {},
     "output_type": "execute_result"
    }
   ],
   "source": [
    "myfloat=0.1\n",
    "myint=2\n",
    "mystring=\"hello\"\n",
    "myboolean= True\n",
    "print(myfloat)\n",
    "print(mystring)\n",
    "print(\"hello\")\n",
    "\n",
    "5/1.2\n",
    "5*2"
   ]
  },
  {
   "cell_type": "code",
   "execution_count": 2,
   "metadata": {},
   "outputs": [
    {
     "name": "stdout",
     "output_type": "stream",
     "text": [
      "the area of this triangle is  6.0\n"
     ]
    }
   ],
   "source": [
    "# This is a comment in python cell, start with #, comment will be ignore by python\n",
    "# Use python as a calculator\n",
    "\n",
    "# The area of a triangle\n",
    "base=4.0\n",
    "height=3.0\n",
    "area=0.5*base*height\n",
    "print(\"the area of this triangle is \", area)"
   ]
  },
  {
   "cell_type": "code",
   "execution_count": 3,
   "metadata": {},
   "outputs": [
    {
     "name": "stdout",
     "output_type": "stream",
     "text": [
      "area =  3.14\n"
     ]
    }
   ],
   "source": [
    "# The area of a circle\n",
    "radius=1\n",
    "pi = 3.14\n",
    "area = pi * radius**2\n",
    "print(\"area = \",area)"
   ]
  },
  {
   "cell_type": "code",
   "execution_count": null,
   "metadata": {},
   "outputs": [],
   "source": []
  }
 ],
 "metadata": {
  "kernelspec": {
   "display_name": "Python 3",
   "language": "python",
   "name": "python3"
  },
  "language_info": {
   "codemirror_mode": {
    "name": "ipython",
    "version": 3
   },
   "file_extension": ".py",
   "mimetype": "text/x-python",
   "name": "python",
   "nbconvert_exporter": "python",
   "pygments_lexer": "ipython3",
   "version": "3.7.6"
  }
 },
 "nbformat": 4,
 "nbformat_minor": 4
}
