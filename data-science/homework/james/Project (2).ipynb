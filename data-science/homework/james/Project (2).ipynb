{
  "nbformat": 4,
  "nbformat_minor": 0,
  "metadata": {
    "colab": {
      "name": "Project.ipynb",
      "provenance": [],
      "collapsed_sections": []
    },
    "kernelspec": {
      "name": "python3",
      "display_name": "Python 3"
    }
  },
  "cells": [
    {
      "cell_type": "markdown",
      "metadata": {
        "id": "Mssz4LS1ft8J",
        "colab_type": "text"
      },
      "source": [
        "# How covid 19 effect crime rate"
      ]
    },
    {
      "cell_type": "markdown",
      "metadata": {
        "id": "puxhUGh7f_BK",
        "colab_type": "text"
      },
      "source": [
        "project for data science workshop"
      ]
    },
    {
      "cell_type": "markdown",
      "metadata": {
        "id": "xZO_st11gEmn",
        "colab_type": "text"
      },
      "source": [
        "\n",
        "\n",
        "*   Author: James Wu\n",
        "\n",
        "\n"
      ]
    },
    {
      "cell_type": "markdown",
      "metadata": {
        "id": "zqmc9jVIgKH0",
        "colab_type": "text"
      },
      "source": [
        "Introduction"
      ]
    },
    {
      "cell_type": "markdown",
      "metadata": {
        "id": "wJT4WHbrgOIa",
        "colab_type": "text"
      },
      "source": [
        "\n",
        "\n",
        "*   background: See how crime rate change when virus is coming.\n",
        "*   goal:       Find how crime rate behave during pandamic\n",
        "*   data:       \n",
        "\n"
      ]
    },
    {
      "cell_type": "code",
      "metadata": {
        "id": "aJLQjTqtf4iV",
        "colab_type": "code",
        "colab": {}
      },
      "source": [
        ""
      ],
      "execution_count": null,
      "outputs": []
    }
  ]
}