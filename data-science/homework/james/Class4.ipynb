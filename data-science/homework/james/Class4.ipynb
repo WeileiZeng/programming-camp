{
 "cells": [
  {
   "cell_type": "markdown",
   "metadata": {},
   "source": [
    "# Functions"
   ]
  },
  {
   "cell_type": "code",
   "execution_count": 10,
   "metadata": {},
   "outputs": [
    {
     "name": "stdout",
     "output_type": "stream",
     "text": [
      "[3, 5, 7, 11]\n"
     ]
    }
   ],
   "source": [
    "\n",
    "def primenum(num):\n",
    "    prime = True\n",
    "    for x in range(2,num):\n",
    "        if num % x == 0:\n",
    "            prime = False\n",
    "#    if prime:\n",
    "#        print(num, \" is prime\")\n",
    "#    else:\n",
    "#        print(num, \" is not prime\")\n",
    "    return prime\n",
    "        \n",
    "primenum(8)\n",
    "primenum(11)\n",
    "\n",
    "def findPrime(start, end):\n",
    "    result = []\n",
    "    for x in range(start,end+1):\n",
    "        if primenum(x):\n",
    "            #print(x, \" is prime\")\n",
    "            result.append(x)\n",
    "    return result\n",
    "            \n",
    "print(findPrime(3,11))"
   ]
  },
  {
   "cell_type": "code",
   "execution_count": 18,
   "metadata": {},
   "outputs": [
    {
     "name": "stdout",
     "output_type": "stream",
     "text": [
      "6.123233995736766e-17\n",
      "1.5707963267948966\n"
     ]
    }
   ],
   "source": [
    "import math\n",
    "x=math.pi\n",
    "print(math.cos(x/2))\n",
    "print(x/2)"
   ]
  },
  {
   "cell_type": "code",
   "execution_count": 25,
   "metadata": {},
   "outputs": [
    {
     "name": "stdout",
     "output_type": "stream",
     "text": [
      "[157.  157.1 157.2 157.3 157.4 157.5 157.6 157.7 157.8 157.9 158.  158.1\n",
      " 158.2 158.3 158.4 158.5 158.6 158.7 158.8 158.9 159.  159.1 159.2 159.3\n",
      " 159.4 159.5 159.6 159.7 159.8 159.9 160.  160.1 160.2 160.3 160.4 160.5\n",
      " 160.6 160.7 160.8 160.9 161.  161.1 161.2 161.3 161.4 161.5 161.6 161.7\n",
      " 161.8 161.9 162.  162.1 162.2 162.3 162.4 162.5 162.6 162.7 162.8 162.9]\n",
      "[45.3  45.49 45.68 45.87 46.06 46.25 46.44 46.63 46.82 47.01 47.2  47.39\n",
      " 47.58 47.77 47.96 48.15 48.34 48.53 48.72 48.91 49.1  49.29 49.48 49.67\n",
      " 49.86 50.05 50.24 50.43 50.62 50.81 51.   51.19 51.38 51.57 51.76 51.95\n",
      " 52.14 52.33 52.52 52.71 52.9  53.09 53.28 53.47 53.66 53.85 54.04 54.23\n",
      " 54.42 54.61 54.8  54.99 55.18 55.37 55.56 55.75 55.94 56.13 56.32 56.51]\n"
     ]
    },
    {
     "data": {
      "image/png": "[encoded data removed]",
      "text/plain": [
       "<Figure size 432x288 with 1 Axes>"
      ]
     },
     "metadata": {},
     "output_type": "display_data"
    }
   ],
   "source": [
    "import matplotlib.pyplot as plt\n",
    "weight = [45.8,47.6,52.1,53.5,54.4,56.7,57.1,58.0]\n",
    "height = [156.7,158.7, 159.7,162.5,162.5,163,163,163.3]\n",
    "\n",
    "plt.plot(height, weight)\n",
    "plt.title(\"graph\")\n",
    "plt.xlabel(\"height(cm)\")\n",
    "plt.ylabel(\"weight(kg)\")\n",
    "# plot a function\n",
    "import numpy as np\n",
    "h = np.arange(157., 163., .1)\n",
    "w = 1.9 * h - 270 + 17\n",
    "# red dashes, blue squares and green triangles\n",
    "plt.plot(h, w, 'r--')\n",
    "print(h)\n",
    "print(w)"
   ]
  },
  {
   "cell_type": "code",
   "execution_count": null,
   "metadata": {},
   "outputs": [],
   "source": []
  }
 ],
 "metadata": {
  "kernelspec": {
   "display_name": "Python 3",
   "language": "python",
   "name": "python3"
  },
  "language_info": {
   "codemirror_mode": {
    "name": "ipython",
    "version": 3
   },
   "file_extension": ".py",
   "mimetype": "text/x-python",
   "name": "python",
   "nbconvert_exporter": "python",
   "pygments_lexer": "ipython3",
   "version": "3.6.5"
  }
 },
 "nbformat": 4,
 "nbformat_minor": 2
}
