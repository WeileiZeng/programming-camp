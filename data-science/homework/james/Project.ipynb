{
  "nbformat": 4,
  "nbformat_minor": 0,
  "metadata": {
    "colab": {
      "name": "Project.ipynb",
      "provenance": [],
      "collapsed_sections": [],
      "toc_visible": true
    },
    "kernelspec": {
      "name": "python3",
      "display_name": "Python 3"
    }
  },
  "cells": [
    {
      "cell_type": "markdown",
      "metadata": {
        "id": "Mssz4LS1ft8J",
        "colab_type": "text"
      },
      "source": [
        "# How covid 19 effect crime rate"
      ]
    },
    {
      "cell_type": "markdown",
      "metadata": {
        "id": "S8ImS7vH058D",
        "colab_type": "text"
      },
      "source": [
        ""
      ]
    },
    {
      "cell_type": "markdown",
      "metadata": {
        "id": "puxhUGh7f_BK",
        "colab_type": "text"
      },
      "source": [
        "project for data science workshop"
      ]
    },
    {
      "cell_type": "markdown",
      "metadata": {
        "id": "xZO_st11gEmn",
        "colab_type": "text"
      },
      "source": [
        "\n",
        "\n",
        "*   Author: James Wu\n",
        "\n",
        "\n"
      ]
    },
    {
      "cell_type": "markdown",
      "metadata": {
        "id": "zqmc9jVIgKH0",
        "colab_type": "text"
      },
      "source": [
        "Introduction"
      ]
    },
    {
      "cell_type": "markdown",
      "metadata": {
        "id": "wJT4WHbrgOIa",
        "colab_type": "text"
      },
      "source": [
        "\n",
        "\n",
        "*   background: See how crime rate change when virus is coming.\n",
        "*   goal:       Find how crime rate behave during pandamic\n",
        "*   data:       \n",
        "\n"
      ]
    },
    {
      "cell_type": "code",
      "metadata": {
        "id": "aJLQjTqtf4iV",
        "colab_type": "code",
        "colab": {}
      },
      "source": [
        "# import as needed\n",
        "import pandas as pd\n",
        "from pandas import Series, DataFrame\n",
        "import matplotlib.pyplot as plt"
      ],
      "execution_count": 1,
      "outputs": []
    },
    {
      "cell_type": "code",
      "metadata": {
        "id": "ZoBVDoD_uwzX",
        "colab_type": "code",
        "colab": {
          "base_uri": "https://localhost:8080/",
          "height": 122
        },
        "outputId": "1a8a78a6-0c48-4295-80d1-a64e1f6929cb"
      },
      "source": [
        "from google.colab import drive\n",
        "drive.mount('/content/drive')"
      ],
      "execution_count": 2,
      "outputs": [
        {
          "output_type": "stream",
          "text": [
            "Go to this URL in a browser: https://accounts.google.com/o/oauth2/auth?client_id=947318989803-6bn6qk8qdgf4n4g3pfee6491hc0brc4i.apps.googleusercontent.com&redirect_uri=urn%3aietf%3awg%3aoauth%3a2.0%3aoob&response_type=code&scope=email%20https%3a%2f%2fwww.googleapis.com%2fauth%2fdocs.test%20https%3a%2f%2fwww.googleapis.com%2fauth%2fdrive%20https%3a%2f%2fwww.googleapis.com%2fauth%2fdrive.photos.readonly%20https%3a%2f%2fwww.googleapis.com%2fauth%2fpeopleapi.readonly\n",
            "\n",
            "Enter your authorization code:\n",
            "··········\n",
            "Mounted at /content/drive\n"
          ],
          "name": "stdout"
        }
      ]
    },
    {
      "cell_type": "code",
      "metadata": {
        "id": "_38_EFESu7AA",
        "colab_type": "code",
        "colab": {
          "base_uri": "https://localhost:8080/",
          "height": 153
        },
        "outputId": "40d13a89-0220-4210-e6ad-24611f7d08a4"
      },
      "source": [
        "df=pd.read_excel('table-1(2).xls')\n",
        "#print(df)\n",
        "print(df.head())"
      ],
      "execution_count": 9,
      "outputs": [
        {
          "output_type": "stream",
          "text": [
            "                                             Table 1  ... Unnamed: 23\n",
            "0                         Crime in the United States  ...         NaN\n",
            "1  by Volume and Rate per 100,000 Inhabitants, 19...  ...         NaN\n",
            "2                                               Year  ...         NaN\n",
            "3                                               1999  ...         NaN\n",
            "4                                               2000  ...         NaN\n",
            "\n",
            "[5 rows x 24 columns]\n"
          ],
          "name": "stdout"
        }
      ]
    },
    {
      "cell_type": "code",
      "metadata": {
        "id": "pqeZwkcTwt61",
        "colab_type": "code",
        "colab": {
          "base_uri": "https://localhost:8080/",
          "height": 374
        },
        "outputId": "a44890cf-1da8-44f4-f2e2-b524a280f4a1"
      },
      "source": [
        "df.iloc[3:23,1:2]\n",
        "violentCrime = df.iloc[3:23,1:2]\n",
        "print(violentCrime)"
      ],
      "execution_count": 28,
      "outputs": [
        {
          "output_type": "stream",
          "text": [
            "             \n",
            "3   272690813\n",
            "4   281421906\n",
            "5   285317559\n",
            "6   287973924\n",
            "7   290788976\n",
            "8   293656842\n",
            "9   296507061\n",
            "10  299398484\n",
            "11  301621157\n",
            "12  304059724\n",
            "13  307006550\n",
            "14  309330219\n",
            "15  311587816\n",
            "16  313873685\n",
            "17  316497531\n",
            "18  318907401\n",
            "19  320896618\n",
            "20  323405935\n",
            "21  325147121\n",
            "22  327167434\n"
          ],
          "name": "stdout"
        }
      ]
    },
    {
      "cell_type": "code",
      "metadata": {
        "id": "WeYHYiWhx0A3",
        "colab_type": "code",
        "colab": {}
      },
      "source": [
        "df.iloc[3:23,0]\n",
        "year = range(1999,2019)"
      ],
      "execution_count": 25,
      "outputs": []
    },
    {
      "cell_type": "code",
      "metadata": {
        "id": "DNL9oMDsyCHG",
        "colab_type": "code",
        "colab": {
          "base_uri": "https://localhost:8080/",
          "height": 293
        },
        "outputId": "b8d759cd-7e2f-45e5-bb08-83a99f335f94"
      },
      "source": [
        "plt.plot(year,violentCrime)\n",
        "import numpy as np\n",
        "x = np.arange(1999, 2018, 0.1)\n",
        "#y = 16000000 / 17.5 * x -1500000000\n",
        "y = 42000000 / 17.5 * (x - 2015) + 320000000\n",
        "# red dashes, blue squares and green triangles\n",
        "plt.plot(x, y, 'r--')\n"
      ],
      "execution_count": 99,
      "outputs": [
        {
          "output_type": "execute_result",
          "data": {
            "text/plain": [
              "[<matplotlib.lines.Line2D at 0x7f046b54ee10>]"
            ]
          },
          "metadata": {
            "tags": []
          },
          "execution_count": 99
        },
        {
          "output_type": "display_data",
          "data": {
            "image/png": "[encoded data removed]",
            "text/plain": [
              "<Figure size 432x288 with 1 Axes>"
            ]
          },
          "metadata": {
            "tags": [],
            "needs_background": "light"
          }
        }
      ]
    },
    {
      "cell_type": "markdown",
      "metadata": {
        "id": "_NPBDmbi2iSi",
        "colab_type": "text"
      },
      "source": [
        "2500000 / 17.5 * x + 30000000"
      ]
    },
    {
      "cell_type": "markdown",
      "metadata": {
        "id": "do9BTo2G4kFg",
        "colab_type": "text"
      },
      "source": [
        "y = 42000000 / 17.5 * (x - 2015) + 320000000"
      ]
    },
    {
      "cell_type": "code",
      "metadata": {
        "id": "fhMwCpDu4mdx",
        "colab_type": "code",
        "colab": {
          "base_uri": "https://localhost:8080/",
          "height": 34
        },
        "outputId": "215ffeff-0f12-4f31-a294-ddb609f5e440"
      },
      "source": [
        "x = 2020\n",
        "y = 42000000 / 17.5 * (x - 2015) + 320000000\n",
        "print(y)"
      ],
      "execution_count": 100,
      "outputs": [
        {
          "output_type": "stream",
          "text": [
            "332000000.0\n"
          ],
          "name": "stdout"
        }
      ]
    },
    {
      "cell_type": "markdown",
      "metadata": {
        "id": "C91wEEyt4_gT",
        "colab_type": "text"
      },
      "source": [
        "According to the approximate, the violent crime number in 2020 will be 332000000.0"
      ]
    },
    {
      "cell_type": "code",
      "metadata": {
        "id": "KeyMjCkJ43hq",
        "colab_type": "code",
        "colab": {
          "base_uri": "https://localhost:8080/",
          "height": 34
        },
        "outputId": "00d1e5b6-063e-47a8-8fff-402f694cee79"
      },
      "source": [
        "x = 2019\n",
        "y = 42000000 / 17.5 * (x - 2015) + 320000000\n",
        "print(y)"
      ],
      "execution_count": 101,
      "outputs": [
        {
          "output_type": "stream",
          "text": [
            "329600000.0\n"
          ],
          "name": "stdout"
        }
      ]
    },
    {
      "cell_type": "code",
      "metadata": {
        "id": "EkmUgz7q2FQ1",
        "colab_type": "code",
        "colab": {
          "base_uri": "https://localhost:8080/",
          "height": 293
        },
        "outputId": "a48941c7-6b6c-4aa5-9e46-2bc5b74340b0"
      },
      "source": [
        "plt.plot(year,violentCrime)"
      ],
      "execution_count": 51,
      "outputs": [
        {
          "output_type": "execute_result",
          "data": {
            "text/plain": [
              "[<matplotlib.lines.Line2D at 0x7f046cc12358>]"
            ]
          },
          "metadata": {
            "tags": []
          },
          "execution_count": 51
        },
        {
          "output_type": "display_data",
          "data": {
            "image/png": "[encoded data removed]",
            "text/plain": [
              "<Figure size 432x288 with 1 Axes>"
            ]
          },
          "metadata": {
            "tags": [],
            "needs_background": "light"
          }
        }
      ]
    },
    {
      "cell_type": "code",
      "metadata": {
        "id": "wrEJCPjS0eOH",
        "colab_type": "code",
        "colab": {
          "base_uri": "https://localhost:8080/",
          "height": 374
        },
        "outputId": "4471c05a-d027-4850-d264-22d3292dbd5f"
      },
      "source": [
        "df.iloc[3:23,0]\n",
        "violentCrimeRate = df.iloc[3:23,3]\n",
        "print(violentCrimeRate)"
      ],
      "execution_count": 44,
      "outputs": [
        {
          "output_type": "stream",
          "text": [
            "3       523\n",
            "4     506.5\n",
            "5     504.5\n",
            "6     494.4\n",
            "7     475.8\n",
            "8     463.2\n",
            "9       469\n",
            "10    479.3\n",
            "11    471.8\n",
            "12    458.6\n",
            "13    431.9\n",
            "14    404.5\n",
            "15    387.1\n",
            "16    387.8\n",
            "17    369.1\n",
            "18    361.6\n",
            "19    373.7\n",
            "20    386.6\n",
            "21    383.8\n",
            "22    368.9\n",
            "Name: Unnamed: 3, dtype: object\n"
          ],
          "name": "stdout"
        }
      ]
    },
    {
      "cell_type": "code",
      "metadata": {
        "id": "-2gTxsthzb4C",
        "colab_type": "code",
        "colab": {
          "base_uri": "https://localhost:8080/",
          "height": 282
        },
        "outputId": "27a538d1-3cdb-4f41-bbd1-01698c4e82ee"
      },
      "source": [
        "#plt.plot(year,violentCrime)\n",
        "plt.plot(year,violentCrimeRate)"
      ],
      "execution_count": 46,
      "outputs": [
        {
          "output_type": "execute_result",
          "data": {
            "text/plain": [
              "[<matplotlib.lines.Line2D at 0x7f046caf1b00>]"
            ]
          },
          "metadata": {
            "tags": []
          },
          "execution_count": 46
        },
        {
          "output_type": "display_data",
          "data": {
            "image/png": "[encoded data removed]",
            "text/plain": [
              "<Figure size 432x288 with 1 Axes>"
            ]
          },
          "metadata": {
            "tags": [],
            "needs_background": "light"
          }
        }
      ]
    }
  ]
}