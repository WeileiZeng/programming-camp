{
 "cells": [
  {
   "cell_type": "code",
   "execution_count": 1,
   "metadata": {},
   "outputs": [
    {
     "name": "stdout",
     "output_type": "stream",
     "text": [
      "How COVID-19 affect internet companies?\n",
      "Project for data science workshop\n",
      "Author: Leo Yang\n",
      "Introduction:\n",
      "background: covid-19 started in January. People started going home in March. This affected internet companies a lot.\n",
      "goal: Did covid-19 help or harm internet companies\n",
      "data: where did you find the data\n"
     ]
    }
   ],
   "source": [
    "print('How COVID-19 affect internet companies?')\n",
    "print('Project for data science workshop') \n",
    "print('Author: Leo Yang') \n",
    "print('Introduction:')\n",
    "print('background: covid-19 started in January. People started going home in March. This affected internet companies a lot.') \n",
    "print('goal: Did covid-19 help or harm internet companies')\n",
    "print('data: where did you find the data')"
   ]
  },
  {
   "cell_type": "markdown",
   "metadata": {},
   "source": [
    "# How COVID-19 affect internet companies? \n",
    "Project for data science workshop\n",
    "- Author: Leo Yang\n",
    "\n",
    "## Introduction:\n",
    "- background: \n",
    "covid-19 started in January. \n",
    "People started going home in March. This affected internet companies a lot.\n",
    "- goal: \n",
    "Did covid-19 help or harm internet companies\n",
    "- data: w\n",
    "here did you find the data\n"
   ]
  },
  {
   "cell_type": "code",
   "execution_count": null,
   "metadata": {},
   "outputs": [],
   "source": []
  }
 ],
 "metadata": {
  "kernelspec": {
   "display_name": "Python 3",
   "language": "python",
   "name": "python3"
  },
  "language_info": {
   "codemirror_mode": {
    "name": "ipython",
    "version": 3
   },
   "file_extension": ".py",
   "mimetype": "text/x-python",
   "name": "python",
   "nbconvert_exporter": "python",
   "pygments_lexer": "ipython3",
   "version": "3.7.6"
  }
 },
 "nbformat": 4,
 "nbformat_minor": 4
}
