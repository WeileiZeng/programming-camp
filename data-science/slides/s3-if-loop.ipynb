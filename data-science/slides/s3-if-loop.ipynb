{
 "cells": [
  {
   "cell_type": "markdown",
   "metadata": {},
   "source": [
    "# Session 3: python basics\n",
    "- conditions\n",
    "- loop\n",
    "- function"
   ]
  },
  {
   "cell_type": "markdown",
   "metadata": {},
   "source": [
    "## Anaconda\n",
    "- create and save .ipynb notebook files\n",
    "- shut down kernels\n",
    "- open and close anaconda and jupyter Lab"
   ]
  },
  {
   "cell_type": "markdown",
   "metadata": {},
   "source": [
    "## Conditions\n",
    "https://www.learnpython.org/en/Conditions"
   ]
  },
  {
   "cell_type": "code",
   "execution_count": 39,
   "metadata": {},
   "outputs": [
    {
     "name": "stdout",
     "output_type": "stream",
     "text": [
      "x is an odd number\n",
      "the if statement is finished\n"
     ]
    }
   ],
   "source": [
    "# indentation\n",
    "x = 3\n",
    "if ( x == 3 ):\n",
    "    print (\"x is an odd number\")\n",
    "else:\n",
    "    print (\"the statement is false\")\n",
    "    print (\"x doesn't equal to 3\")\n",
    "print (\"the if statement is finished\")"
   ]
  },
  {
   "cell_type": "code",
   "execution_count": 29,
   "metadata": {},
   "outputs": [],
   "source": [
    "# Exercise: Change the variables in the first section, so that each if statement resolves as True.\n",
    "number = 10\n",
    "second_number = 10\n",
    "first_array = []\n",
    "second_array = [1,2,3]\n",
    "\n",
    "if number > 15:\n",
    "    print(\"1\")\n",
    "\n",
    "if first_array:\n",
    "    print(\"2\")\n",
    "\n",
    "if len(second_array) == 2:\n",
    "    print(\"3\")\n",
    "\n",
    "if len(first_array) + len(second_array) == 5:\n",
    "    print(\"4\")\n",
    "\n",
    "if first_array and first_array[0] == 1:\n",
    "    print(\"5\")\n",
    "\n",
    "if not second_number:\n",
    "    print(\"6\")"
   ]
  },
  {
   "cell_type": "markdown",
   "metadata": {},
   "source": [
    "## Loops\n",
    "https://www.learnpython.org/en/Loops\n",
    "    \n",
    "    "
   ]
  },
  {
   "cell_type": "code",
   "execution_count": 20,
   "metadata": {},
   "outputs": [
    {
     "name": "stdout",
     "output_type": "stream",
     "text": [
      "the summation is 50005000\n"
     ]
    }
   ],
   "source": [
    "# count the summation from 1 to 100\n",
    "# s= 1 + 2 + 3 + ... + ... + 99 + 100 = ?\n",
    "\n",
    "s=0\n",
    "for i in range(1,101):\n",
    "    s = s + i\n",
    "    #print('i=',i,', s=',s)\n",
    "    # the above commands run inside the loop\n",
    "    \n",
    "# this will run after the for loop\n",
    "print('the summation is', s)"
   ]
  },
  {
   "cell_type": "code",
   "execution_count": null,
   "metadata": {},
   "outputs": [],
   "source": [
    "# Exercise: Loop through and print out all even numbers from the numbers list in the same order they are received. Don't print any numbers that come after 237 in the sequence.\n",
    "\n",
    "numbers = [\n",
    "    951, 402, 984, 651, 360, 69, 408, 319, 601, 485, 980, 507, 725, 547, 544,\n",
    "    615, 83, 165, 141, 501, 263, 617, 865, 575, 219, 390, 984, 592, 236, 105, 942, 941,\n",
    "    386, 462, 47, 418, 907, 344, 236, 375, 823, 566, 597, 978, 328, 615, 953, 345,\n",
    "    399, 162, 758, 219, 918, 237, 412, 566, 826, 248, 866, 950, 626, 949, 687, 217,\n",
    "    815, 67, 104, 58, 512, 24, 892, 894, 767, 553, 81, 379, 843, 831, 445, 742, 717,\n",
    "    958, 609, 842, 451, 688, 753, 854, 685, 93, 857, 440, 380, 126, 721, 328, 753, 470,\n",
    "    743, 527\n",
    "]\n",
    "\n",
    "# your code goes here"
   ]
  },
  {
   "cell_type": "code",
   "execution_count": 26,
   "metadata": {},
   "outputs": [
    {
     "name": "stdout",
     "output_type": "stream",
     "text": [
      "1377  is not a prime\n"
     ]
    }
   ],
   "source": [
    "# check a number is prime or not\n",
    "# a prime can only be devided by 1 and itself, and nothing else\n",
    "\n",
    "#input\n",
    "n = 1377\n",
    "\n",
    "flag = True \n",
    "# True means n is a prime\n",
    "\n",
    "# check if n can be devided by 1, 2,....,n-1\n",
    "\n",
    "for i in range(2,n):\n",
    "    if n % i == 0 :\n",
    "        # n can be devided by i, so it is not a prime\n",
    "        flag = False\n",
    "        break\n",
    "\n",
    "if flag :\n",
    "    print(n, \"is a prime \")\n",
    "else:\n",
    "    print(n , \" is not a prime\")\n",
    "\n",
    "\n"
   ]
  },
  {
   "cell_type": "code",
   "execution_count": 30,
   "metadata": {},
   "outputs": [
    {
     "name": "stdout",
     "output_type": "stream",
     "text": [
      "2 is a prime \n",
      "3 is a prime \n",
      "5 is a prime \n",
      "7 is a prime \n",
      "11 is a prime \n",
      "13 is a prime \n",
      "17 is a prime \n",
      "19 is a prime \n",
      "23 is a prime \n",
      "29 is a prime \n",
      "31 is a prime \n",
      "37 is a prime \n",
      "41 is a prime \n",
      "43 is a prime \n",
      "47 is a prime \n",
      "53 is a prime \n",
      "59 is a prime \n",
      "61 is a prime \n",
      "67 is a prime \n",
      "71 is a prime \n",
      "73 is a prime \n",
      "79 is a prime \n",
      "83 is a prime \n",
      "89 is a prime \n",
      "97 is a prime \n"
     ]
    }
   ],
   "source": [
    "# print all prime numbers smaller than m\n",
    "\n",
    "m = 100\n",
    "\n",
    "def fun(n):\n",
    "    #do some thing\n",
    "\n",
    "for n in range(2,m):\n",
    "    # check if n is a prime or not\n",
    "\n",
    "    flag = True \n",
    "    # True means n is a prime\n",
    "\n",
    "    # check if n can be devided by 1, 2,....,n-1\n",
    "    for i in range(2,n):\n",
    "        if n % i == 0 :\n",
    "            # n can be devided by i, so it is not a prime\n",
    "            flag = False\n",
    "            break\n",
    "\n",
    "    if flag :\n",
    "        print(n, \"is a prime \")\n",
    "    #else:\n",
    "        #print(n , \" is not a prime\")\n",
    "\n"
   ]
  },
  {
   "cell_type": "markdown",
   "metadata": {},
   "source": [
    "## Functions\n",
    "https://www.learnpython.org/en/Functions"
   ]
  },
  {
   "cell_type": "code",
   "execution_count": null,
   "metadata": {},
   "outputs": [],
   "source": [
    "# Modify this function to return a list of strings as defined above\n",
    "def list_benefits():\n",
    "    pass\n",
    "\n",
    "# Modify this function to concatenate to each benefit - \" is a benefit of functions!\"\n",
    "def build_sentence(benefit):\n",
    "    pass\n",
    "\n",
    "def name_the_benefits_of_functions():\n",
    "    list_of_benefits = list_benefits()\n",
    "    for benefit in list_of_benefits:\n",
    "        print(build_sentence(benefit))\n",
    "\n",
    "name_the_benefits_of_functions()"
   ]
  },
  {
   "cell_type": "markdown",
   "metadata": {},
   "source": [
    "## List sort()"
   ]
  },
  {
   "cell_type": "code",
   "execution_count": 33,
   "metadata": {},
   "outputs": [
    {
     "name": "stdout",
     "output_type": "stream",
     "text": [
      "['BMW', 'Ford', 'Volvo']\n",
      "['Volvo', 'Ford', 'BMW']\n"
     ]
    }
   ],
   "source": [
    "cars = ['Ford', 'BMW', 'Volvo']\n",
    "cars.sort()\n",
    "print(cars)\n",
    "cars.sort(reverse=True)\n",
    "print(cars)"
   ]
  },
  {
   "cell_type": "code",
   "execution_count": 34,
   "metadata": {},
   "outputs": [
    {
     "name": "stdout",
     "output_type": "stream",
     "text": [
      "true\n"
     ]
    }
   ],
   "source": [
    "if 'hello' < 'world':\n",
    "    print(\"true\")\n",
    "else:\n",
    "    print(\"false\")\n"
   ]
  },
  {
   "cell_type": "markdown",
   "metadata": {},
   "source": [
    "## Dictionary\n",
    "https://www.learnpython.org/en/Dictionaries"
   ]
  },
  {
   "cell_type": "code",
   "execution_count": 58,
   "metadata": {},
   "outputs": [
    {
     "name": "stdout",
     "output_type": "stream",
     "text": [
      "['Jack', 'Jill', 'John']\n",
      "938377264,947662781,938477566\n",
      "{'John': 938477566, 'Jack': 938377264, 'Jill': 947662781}\n"
     ]
    }
   ],
   "source": [
    "phonebook = {}\n",
    "phonebook[\"John\"] = 938477566\n",
    "phonebook[\"Jack\"] = 938377264\n",
    "phonebook[\"Jill\"] = 947662781\n",
    "k=(list(phonebook.keys()))\n",
    "k.sort()\n",
    "print(k)\n",
    "print(','.join(str(phonebook[key]) for key in k))\n",
    "print(phonebook)"
   ]
  },
  {
   "cell_type": "markdown",
   "metadata": {},
   "source": [
    "## module\n"
   ]
  },
  {
   "cell_type": "code",
   "execution_count": 5,
   "metadata": {},
   "outputs": [
    {
     "name": "stdout",
     "output_type": "stream",
     "text": [
      "1.0\n",
      "3.141592653589793\n",
      "1.0\n",
      "8.0\n",
      "['__doc__', '__file__', '__loader__', '__name__', '__package__', '__spec__', 'acos', 'acosh', 'asin', 'asinh', 'atan', 'atan2', 'atanh', 'ceil', 'copysign', 'cos', 'cosh', 'degrees', 'e', 'erf', 'erfc', 'exp', 'expm1', 'fabs', 'factorial', 'floor', 'fmod', 'frexp', 'fsum', 'gamma', 'gcd', 'hypot', 'inf', 'isclose', 'isfinite', 'isinf', 'isnan', 'ldexp', 'lgamma', 'log', 'log10', 'log1p', 'log2', 'modf', 'nan', 'pi', 'pow', 'radians', 'remainder', 'sin', 'sinh', 'sqrt', 'tan', 'tanh', 'tau', 'trunc']\n"
     ]
    }
   ],
   "source": [
    "# built-in math module\n",
    "\n",
    "import math\n",
    "print(math.cos(0))\n",
    "print(math.pi)\n",
    "print(math.log(10,10))\n",
    "print(math.pow(2,3))\n",
    "print(dir(math)) # print functions defines in a module"
   ]
  },
  {
   "cell_type": "code",
   "execution_count": 11,
   "metadata": {},
   "outputs": [
    {
     "data": {
      "text/plain": [
       "-0.4161468365471424"
      ]
     },
     "execution_count": 11,
     "metadata": {},
     "output_type": "execute_result"
    }
   ],
   "source": [
    "#from math import *\n",
    "from math import cos\n",
    "cos(2)\n",
    "#sin(3)"
   ]
  },
  {
   "cell_type": "markdown",
   "metadata": {},
   "source": [
    "#### Exercise\n",
    "write your own module named `foo`, with a function to distribute $x$ apples among $m$ people\n",
    "to be fair, please try to make the distribution as even as possible, otherwise the kids will cry.\n",
    "\n",
    "How to ?\n",
    "- create a file `foo.py` in current folder\n",
    "- write a function hand_out(x, n), which return a list of length $n$, and each element refers how many people a person will get.\n"
   ]
  },
  {
   "cell_type": "code",
   "execution_count": null,
   "metadata": {},
   "outputs": [],
   "source": [
    "# now test your own module by running the followng code\n",
    "from foo import hand_out\n",
    "\n",
    "# hand out 6 apples to 6 people\n",
    "# sample output: [1,1,1,1,1,1]\n",
    "print(hand_out(6,6))\n",
    "\n",
    "\n",
    "\n",
    "# hand out 5 apples to 2 people\n",
    "# sample output: [2,2,1]\n",
    "print(hand_out(5,2))\n",
    "\n",
    "\n",
    "# hand out 2 apples to 5 people\n",
    "# sample output: [1,1,0,0,0]\n",
    "# sample output: there are not enough apples for everyone, please prepare more and comeback\n",
    "print(hand_out(2,5))\n"
   ]
  },
  {
   "cell_type": "markdown",
   "metadata": {},
   "source": [
    "## Data science\n",
    "\n",
    "- [wikipedia:](https://en.wikipedia.org/wiki/Data_science)\n",
    "Data science is an inter-disciplinary field that uses scientific methods, processes, algorithms and systems to extract knowledge and insights from many structural and unstructured data. Data science is related to data mining, deep learning and big data.\n",
    "\n",
    "- data collection/mining\n",
    "  - structured\n",
    "  - unstructured\n",
    "- visualization\n",
    "  - matplotlib\n",
    "- analysis\n",
    "  - Linear regression\n",
    "  - model\n",
    "- reflection\n",
    "  \n",
    "  "
   ]
  },
  {
   "cell_type": "code",
   "execution_count": null,
   "metadata": {},
   "outputs": [],
   "source": []
  }
 ],
 "metadata": {
  "kernelspec": {
   "display_name": "Python 3",
   "language": "python",
   "name": "python3"
  },
  "language_info": {
   "codemirror_mode": {
    "name": "ipython",
    "version": 3
   },
   "file_extension": ".py",
   "mimetype": "text/x-python",
   "name": "python",
   "nbconvert_exporter": "python",
   "pygments_lexer": "ipython3",
   "version": "3.7.6"
  }
 },
 "nbformat": 4,
 "nbformat_minor": 4
}
