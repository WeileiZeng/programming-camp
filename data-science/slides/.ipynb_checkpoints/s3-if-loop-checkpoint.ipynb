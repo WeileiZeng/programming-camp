{
 "cells": [
  {
   "cell_type": "markdown",
   "metadata": {},
   "source": [
    "# Session 3: python basics\n",
    "- conditions\n",
    "- loop\n",
    "- function"
   ]
  },
  {
   "cell_type": "markdown",
   "metadata": {},
   "source": [
    "## Anaconda\n",
    "- create and save .ipynb notebook files\n",
    "- shut down kernels\n",
    "- open and close anaconda and jupyter Lab"
   ]
  },
  {
   "cell_type": "markdown",
   "metadata": {},
   "source": [
    "## Conditions\n",
    "https://www.learnpython.org/en/Conditions"
   ]
  },
  {
   "cell_type": "code",
   "execution_count": 39,
   "metadata": {},
   "outputs": [
    {
     "name": "stdout",
     "output_type": "stream",
     "text": [
      "x is an odd number\n",
      "the if statement is finished\n"
     ]
    }
   ],
   "source": [
    "# indentation\n",
    "x = 3\n",
    "if ( x == 3 ):\n",
    "    print (\"x is an odd number\")\n",
    "else:\n",
    "    print (\"the statement is false\")\n",
    "    print (\"x doesn't equal to 3\")\n",
    "print (\"the if statement is finished\")"
   ]
  },
  {
   "cell_type": "code",
   "execution_count": 29,
   "metadata": {},
   "outputs": [],
   "source": [
    "# Exercise: Change the variables in the first section, so that each if statement resolves as True.\n",
    "number = 10\n",
    "second_number = 10\n",
    "first_array = []\n",
    "second_array = [1,2,3]\n",
    "\n",
    "if number > 15:\n",
    "    print(\"1\")\n",
    "\n",
    "if first_array:\n",
    "    print(\"2\")\n",
    "\n",
    "if len(second_array) == 2:\n",
    "    print(\"3\")\n",
    "\n",
    "if len(first_array) + len(second_array) == 5:\n",
    "    print(\"4\")\n",
    "\n",
    "if first_array and first_array[0] == 1:\n",
    "    print(\"5\")\n",
    "\n",
    "if not second_number:\n",
    "    print(\"6\")"
   ]
  },
  {
   "cell_type": "markdown",
   "metadata": {},
   "source": [
    "## Loops\n",
    "https://www.learnpython.org/en/Loops\n",
    "    \n",
    "    "
   ]
  },
  {
   "cell_type": "code",
   "execution_count": 20,
   "metadata": {},
   "outputs": [
    {
     "name": "stdout",
     "output_type": "stream",
     "text": [
      "the summation is 50005000\n"
     ]
    }
   ],
   "source": [
    "# count the summation from 1 to 100\n",
    "# s= 1 + 2 + 3 + ... + ... + 99 + 100 = ?\n",
    "\n",
    "s=0\n",
    "for i in range(1,101):\n",
    "    s = s + i\n",
    "    #print('i=',i,', s=',s)\n",
    "    # the above commands run inside the loop\n",
    "    \n",
    "# this will run after the for loop\n",
    "print('the summation is', s)"
   ]
  },
  {
   "cell_type": "code",
   "execution_count": null,
   "metadata": {},
   "outputs": [],
   "source": [
    "# Exercise: Loop through and print out all even numbers from the numbers list in the same order they are received. Don't print any numbers that come after 237 in the sequence.\n",
    "\n",
    "numbers = [\n",
    "    951, 402, 984, 651, 360, 69, 408, 319, 601, 485, 980, 507, 725, 547, 544,\n",
    "    615, 83, 165, 141, 501, 263, 617, 865, 575, 219, 390, 984, 592, 236, 105, 942, 941,\n",
    "    386, 462, 47, 418, 907, 344, 236, 375, 823, 566, 597, 978, 328, 615, 953, 345,\n",
    "    399, 162, 758, 219, 918, 237, 412, 566, 826, 248, 866, 950, 626, 949, 687, 217,\n",
    "    815, 67, 104, 58, 512, 24, 892, 894, 767, 553, 81, 379, 843, 831, 445, 742, 717,\n",
    "    958, 609, 842, 451, 688, 753, 854, 685, 93, 857, 440, 380, 126, 721, 328, 753, 470,\n",
    "    743, 527\n",
    "]\n",
    "\n",
    "# your code goes here"
   ]
  },
  {
   "cell_type": "code",
   "execution_count": 26,
   "metadata": {},
   "outputs": [
    {
     "name": "stdout",
     "output_type": "stream",
     "text": [
      "1377  is not a prime\n"
     ]
    }
   ],
   "source": [
    "# check a number is prime or not\n",
    "# a prime can only be devided by 1 and itself, and nothing else\n",
    "\n",
    "#input\n",
    "n = 1377\n",
    "\n",
    "flag = True \n",
    "# True means n is a prime\n",
    "\n",
    "# check if n can be devided by 2, 3，..., n-1\n",
    "\n",
    "for i in range(2,n):\n",
    "    if n % i == 0 :\n",
    "        # n can be devided by i, so it is not a prime\n",
    "        flag = False\n",
    "        break\n",
    "\n",
    "if flag :\n",
    "    print(n, \"is a prime \")\n",
    "else:\n",
    "    print(n , \" is not a prime\")\n",
    "\n",
    "\n"
   ]
  },
  {
   "cell_type": "code",
   "execution_count": 30,
   "metadata": {},
   "outputs": [
    {
     "name": "stdout",
     "output_type": "stream",
     "text": [
      "2 is a prime \n",
      "3 is a prime \n",
      "5 is a prime \n",
      "7 is a prime \n",
      "11 is a prime \n",
      "13 is a prime \n",
      "17 is a prime \n",
      "19 is a prime \n",
      "23 is a prime \n",
      "29 is a prime \n",
      "31 is a prime \n",
      "37 is a prime \n",
      "41 is a prime \n",
      "43 is a prime \n",
      "47 is a prime \n",
      "53 is a prime \n",
      "59 is a prime \n",
      "61 is a prime \n",
      "67 is a prime \n",
      "71 is a prime \n",
      "73 is a prime \n",
      "79 is a prime \n",
      "83 is a prime \n",
      "89 is a prime \n",
      "97 is a prime \n"
     ]
    }
   ],
   "source": [
    "# print all prime numbers smaller than m\n",
    "\n",
    "m = 100\n",
    "\n",
    "def fun(n):\n",
    "    #do some thing\n",
    "\n",
    "for n in range(2,m):\n",
    "    # check if n is a prime or not\n",
    "\n",
    "    flag = True \n",
    "    # True means n is a prime\n",
    "\n",
    "    # check if n can be devided by 1, 2,....,n-1\n",
    "    for i in range(2,n):\n",
    "        if n % i == 0 :\n",
    "            # n can be devided by i, so it is not a prime\n",
    "            flag = False\n",
    "            break\n",
    "\n",
    "    if flag :\n",
    "        print(n, \"is a prime \")\n",
    "    #else:\n",
    "        #print(n , \" is not a prime\")\n",
    "\n"
   ]
  },
  {
   "cell_type": "code",
   "execution_count": null,
   "metadata": {},
   "outputs": [],
   "source": []
  }
 ],
 "metadata": {
  "kernelspec": {
   "display_name": "Python 3",
   "language": "python",
   "name": "python3"
  },
  "language_info": {
   "codemirror_mode": {
    "name": "ipython",
    "version": 3
   },
   "file_extension": ".py",
   "mimetype": "text/x-python",
   "name": "python",
   "nbconvert_exporter": "python",
   "pygments_lexer": "ipython3",
   "version": "3.7.6"
  }
 },
 "nbformat": 4,
 "nbformat_minor": 4
}
