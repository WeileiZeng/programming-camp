{
 "cells": [
  {
   "cell_type": "markdown",
   "metadata": {},
   "source": [
    "# Session 3: python basics\n",
    "- functions\n",
    "- module"
   ]
  },
  {
   "cell_type": "code",
   "execution_count": 30,
   "metadata": {},
   "outputs": [
    {
     "name": "stdout",
     "output_type": "stream",
     "text": [
      "2 is a prime \n",
      "3 is a prime \n",
      "5 is a prime \n",
      "7 is a prime \n",
      "11 is a prime \n",
      "13 is a prime \n",
      "17 is a prime \n",
      "19 is a prime \n",
      "23 is a prime \n",
      "29 is a prime \n",
      "31 is a prime \n",
      "37 is a prime \n",
      "41 is a prime \n",
      "43 is a prime \n",
      "47 is a prime \n",
      "53 is a prime \n",
      "59 is a prime \n",
      "61 is a prime \n",
      "67 is a prime \n",
      "71 is a prime \n",
      "73 is a prime \n",
      "79 is a prime \n",
      "83 is a prime \n",
      "89 is a prime \n",
      "97 is a prime \n"
     ]
    }
   ],
   "source": [
    "# print all prime numbers smaller than m\n",
    "\n",
    "m = 100\n",
    "\n",
    "def fun(n):\n",
    "    #do some thing\n",
    "\n",
    "for n in range(2,m):\n",
    "    # check if n is a prime or not\n",
    "\n",
    "    flag = True \n",
    "    # True means n is a prime\n",
    "\n",
    "    # check if n can be devided by 1, 2,....,n-1\n",
    "    for i in range(2,n):\n",
    "        if n % i == 0 :\n",
    "            # n can be devided by i, so it is not a prime\n",
    "            flag = False\n",
    "            break\n",
    "\n",
    "    if flag :\n",
    "        print(n, \"is a prime \")\n",
    "    #else:\n",
    "        #print(n , \" is not a prime\")\n",
    "\n"
   ]
  },
  {
   "cell_type": "markdown",
   "metadata": {},
   "source": [
    "## Functions\n",
    "https://www.learnpython.org/en/Functions"
   ]
  },
  {
   "cell_type": "code",
   "execution_count": 32,
   "metadata": {},
   "outputs": [
    {
     "name": "stdout",
     "output_type": "stream",
     "text": [
      "2 is a prime \n",
      "3 is a prime \n",
      "5 is a prime \n",
      "7 is a prime \n",
      "11 is a prime \n",
      "13 is a prime \n",
      "17 is a prime \n",
      "19 is a prime \n",
      "23 is a prime \n",
      "29 is a prime \n",
      "31 is a prime \n",
      "37 is a prime \n",
      "41 is a prime \n",
      "43 is a prime \n",
      "47 is a prime \n",
      "53 is a prime \n",
      "59 is a prime \n",
      "61 is a prime \n",
      "67 is a prime \n",
      "71 is a prime \n",
      "73 is a prime \n",
      "79 is a prime \n",
      "83 is a prime \n",
      "89 is a prime \n",
      "97 is a prime \n",
      "primes smaller than 100 are [2, 3, 5, 7, 11, 13, 17, 19, 23, 29, 31, 37, 41, 43, 47, 53, 59, 61, 67, 71, 73, 79, 83, 89, 97]\n"
     ]
    }
   ],
   "source": [
    "# Exercise: return primes numbers smaller than m\n",
    "# print all prime numbers smaller than m\n",
    "\n",
    "# return True if n is a prime, and False otherwise\n",
    "def is_prime(n):\n",
    "    flag = True \n",
    "    # True means n is a prime\n",
    "\n",
    "    # check if n can be devided by 1, 2,....,n-1\n",
    "    for i in range(2,n):\n",
    "        if n % i == 0 :\n",
    "            # n can be devided by i, so it is not a prime\n",
    "            flag = False\n",
    "            break\n",
    "\n",
    "    if flag :\n",
    "        print(n, \"is a prime \")\n",
    "    return flag\n",
    "\n",
    "# return a list of primes numbers smaller than m\n",
    "def get_primes(m):\n",
    "    primes=[]\n",
    "    for i in range(2, m):\n",
    "        if is_prime(i):\n",
    "            primes.append(i)\n",
    "            \n",
    "    return primes\n",
    "    \n",
    "m = 100\n",
    "\n",
    "primes=get_primes(m)\n",
    "print('primes smaller than',m,'are',primes)\n",
    "\n",
    "\n"
   ]
  },
  {
   "cell_type": "code",
   "execution_count": null,
   "metadata": {},
   "outputs": [],
   "source": [
    "# Modify this function to return a list of strings as defined above\n",
    "def list_benefits():\n",
    "    pass\n",
    "\n",
    "# Modify this function to concatenate to each benefit - \" is a benefit of functions!\"\n",
    "def build_sentence(benefit):\n",
    "    pass\n",
    "\n",
    "def name_the_benefits_of_functions():\n",
    "    list_of_benefits = list_benefits()\n",
    "    for benefit in list_of_benefits:\n",
    "        print(build_sentence(benefit))\n",
    "\n",
    "name_the_benefits_of_functions()"
   ]
  },
  {
   "cell_type": "markdown",
   "metadata": {},
   "source": [
    "## List sort()"
   ]
  },
  {
   "cell_type": "code",
   "execution_count": 33,
   "metadata": {},
   "outputs": [
    {
     "name": "stdout",
     "output_type": "stream",
     "text": [
      "['BMW', 'Ford', 'Volvo']\n",
      "['Volvo', 'Ford', 'BMW']\n"
     ]
    }
   ],
   "source": [
    "cars = ['Ford', 'BMW', 'Volvo']\n",
    "cars.sort()\n",
    "print(cars)\n",
    "cars.sort(reverse=True)\n",
    "print(cars)"
   ]
  },
  {
   "cell_type": "code",
   "execution_count": 34,
   "metadata": {},
   "outputs": [
    {
     "name": "stdout",
     "output_type": "stream",
     "text": [
      "true\n"
     ]
    }
   ],
   "source": [
    "if 'hello' < 'world':\n",
    "    print(\"true\")\n",
    "else:\n",
    "    print(\"false\")\n"
   ]
  },
  {
   "cell_type": "markdown",
   "metadata": {},
   "source": [
    "## Dictionary\n",
    "https://www.learnpython.org/en/Dictionaries"
   ]
  },
  {
   "cell_type": "code",
   "execution_count": 58,
   "metadata": {},
   "outputs": [
    {
     "name": "stdout",
     "output_type": "stream",
     "text": [
      "['Jack', 'Jill', 'John']\n",
      "938377264,947662781,938477566\n",
      "{'John': 938477566, 'Jack': 938377264, 'Jill': 947662781}\n"
     ]
    }
   ],
   "source": [
    "phonebook = {}\n",
    "phonebook[\"John\"] = 938477566\n",
    "phonebook[\"Jack\"] = 938377264\n",
    "phonebook[\"Jill\"] = 947662781\n",
    "k=(list(phonebook.keys()))\n",
    "k.sort()\n",
    "print(k)\n",
    "print(','.join(str(phonebook[key]) for key in k))\n",
    "print(phonebook)"
   ]
  },
  {
   "cell_type": "markdown",
   "metadata": {},
   "source": [
    "## module\n"
   ]
  },
  {
   "cell_type": "code",
   "execution_count": 5,
   "metadata": {},
   "outputs": [
    {
     "name": "stdout",
     "output_type": "stream",
     "text": [
      "1.0\n",
      "3.141592653589793\n",
      "1.0\n",
      "8.0\n",
      "['__doc__', '__file__', '__loader__', '__name__', '__package__', '__spec__', 'acos', 'acosh', 'asin', 'asinh', 'atan', 'atan2', 'atanh', 'ceil', 'copysign', 'cos', 'cosh', 'degrees', 'e', 'erf', 'erfc', 'exp', 'expm1', 'fabs', 'factorial', 'floor', 'fmod', 'frexp', 'fsum', 'gamma', 'gcd', 'hypot', 'inf', 'isclose', 'isfinite', 'isinf', 'isnan', 'ldexp', 'lgamma', 'log', 'log10', 'log1p', 'log2', 'modf', 'nan', 'pi', 'pow', 'radians', 'remainder', 'sin', 'sinh', 'sqrt', 'tan', 'tanh', 'tau', 'trunc']\n"
     ]
    }
   ],
   "source": [
    "# built-in math module\n",
    "\n",
    "import math\n",
    "print(math.cos(0))\n",
    "print(math.pi)\n",
    "print(math.log(10,10))\n",
    "print(math.pow(2,3))\n",
    "print(dir(math)) # print functions defines in a module"
   ]
  },
  {
   "cell_type": "code",
   "execution_count": 11,
   "metadata": {},
   "outputs": [
    {
     "data": {
      "text/plain": [
       "-0.4161468365471424"
      ]
     },
     "execution_count": 11,
     "metadata": {},
     "output_type": "execute_result"
    }
   ],
   "source": [
    "#from math import *\n",
    "from math import cos\n",
    "cos(2)\n",
    "#sin(3)"
   ]
  },
  {
   "cell_type": "markdown",
   "metadata": {},
   "source": [
    "#### Exercise\n",
    "write your own module named `foo`, with a function to distribute $x$ apples among $m$ people\n",
    "to be fair, please try to make the distribution as even as possible, otherwise the kids will cry.\n",
    "\n",
    "How to ?\n",
    "- create a file `foo.py` in current folder\n",
    "- write a function hand_out(x, n), which return a list of length $n$, and each element refers how many people a person will get.\n"
   ]
  },
  {
   "cell_type": "code",
   "execution_count": 40,
   "metadata": {},
   "outputs": [
    {
     "name": "stdout",
     "output_type": "stream",
     "text": [
      "why cannot every one get  6 apple?\n",
      "6\n",
      "why cannot every one get  5 apple?\n",
      "5\n",
      "why cannot every one get  2 apple?\n",
      "2\n"
     ]
    }
   ],
   "source": [
    "# now test your own module by running the followng code\n",
    "from foo import hand_out\n",
    "\n",
    "# hand out 6 apples to 6 people\n",
    "# sample output: [1,1,1,1,1,1]\n",
    "print(hand_out(6,6))\n",
    "\n",
    "# hand out 5 apples to 2 people\n",
    "# sample output: [2,2,1]\n",
    "print(hand_out(5,2))\n",
    "\n",
    "\n",
    "# hand out 2 apples to 5 people\n",
    "# sample output: [1,1,0,0,0]\n",
    "# sample output: there are not enough apples for everyone, please prepare more and comeback\n",
    "print(hand_out(2,5))\n"
   ]
  },
  {
   "cell_type": "code",
   "execution_count": 1,
   "metadata": {},
   "outputs": [
    {
     "name": "stdout",
     "output_type": "stream",
     "text": [
      "[[0.00897128 0.75486901 0.23223753 0.84995194 0.96990111]\n",
      " [0.73573661 0.48540583 0.79711853 0.51515056 0.46445151]\n",
      " [0.75496816 0.83759476 0.37667149 0.69858738 0.77746701]\n",
      " [0.45337058 0.2526138  0.38558539 0.949312   0.27098266]]\n"
     ]
    }
   ],
   "source": [
    "# Exercise: Calculate the value of pi\n",
    "# define the function in a module (foo.py)\n",
    "\n",
    "# method: \n",
    "# given a square of size 4r^2, its biggest inner circle has radius r and \n",
    "# area pi r^2. If we throw a ball into the square, the chance for the ball\n",
    "# to fall in to the circle is pi/4, and the result depends!\n",
    "# But what if you throw 100 balls? 10,000 balls?\n",
    "# The ratio of balls inside will approach pi/4!\n",
    "# Hence 4 times the ratio give you pi\n",
    "\n",
    "import foo\n",
    "#from foo import fun\n",
    "\n",
    "#dir(foo)\n",
    "foo.get_pi()\n",
    "\n",
    "#get_pi\n",
    "    \n",
    "    "
   ]
  },
  {
   "cell_type": "code",
   "execution_count": 34,
   "metadata": {},
   "outputs": [
    {
     "data": {
      "text/plain": [
       "3.08"
      ]
     },
     "execution_count": 34,
     "metadata": {},
     "output_type": "execute_result"
    }
   ],
   "source": [
    "# see notebook for descripton of method\n",
    "import numpy as np\n",
    "\n",
    "def is_in_circle(x,y,r):\n",
    "    if ( x**2 + y**2 <= r**2):\n",
    "        return True\n",
    "    else:\n",
    "        return False\n",
    "    \n",
    "# def get_better_pi() continue run more trials, and calculate average\n",
    "# def get_pi(n)\n",
    "def get_pi(n=100):\n",
    "#    n=100000       # number of balls\n",
    "    r=10.0     # radius of the circle\n",
    "#    x_list=[]\n",
    "    xy_list = np.random.rand(2, n)*r\n",
    "    #print(xy_list)\n",
    "    count=0\n",
    "    for i in range(n):\n",
    "        x=xy_list[0][i]\n",
    "        y=xy_list[1][i]\n",
    "        if is_in_circle(x,y,r):\n",
    "            count +=1\n",
    "    #print('count = ',count)\n",
    "    pi = count/n*4\n",
    "    #print('pi = ', pi )\n",
    "    return pi\n",
    "    \n",
    "get_pi()"
   ]
  },
  {
   "cell_type": "code",
   "execution_count": 47,
   "metadata": {},
   "outputs": [
    {
     "name": "stdout",
     "output_type": "stream",
     "text": [
      "3.016\n",
      "3.084\n",
      "3.106666666666667\n",
      "3.1020000000000003\n",
      "3.1328000000000005\n",
      "3.1093333333333337\n",
      "3.109714285714286\n",
      "3.129\n",
      "3.1395555555555554\n",
      "3.1504000000000003\n"
     ]
    }
   ],
   "source": [
    "# return average of a list\n",
    "def average(values):\n",
    "    s=0\n",
    "    for v in values:\n",
    "        s = s + v\n",
    "    a=s/len(values)\n",
    "    return a\n",
    "    \n",
    "def get_better_pi():\n",
    "    values=[]\n",
    "    for i in range(10):\n",
    "        values.append(get_pi(500))\n",
    "        print( average(values))\n",
    "\n",
    "    \n",
    "get_better_pi()"
   ]
  },
  {
   "cell_type": "markdown",
   "metadata": {},
   "source": [
    "## pandas\n",
    "pandas is a package for data manipulation\n"
   ]
  },
  {
   "cell_type": "code",
   "execution_count": null,
   "metadata": {},
   "outputs": [],
   "source": [
    "# sampe data: weight (kg) and height (cm)\n",
    "# source: https://www.disabled-world.com/calculators-charts/height-weight-teens.php\n",
    "\n",
    "weight = [45.8,47.6,52.1,53.5,54.4,56.7,57.1,57.1,58.0]\n",
    "height = [158.7, 159.7,162.5,162.5,163,163,163.3]\n"
   ]
  },
  {
   "cell_type": "markdown",
   "metadata": {},
   "source": [
    "## Data science\n",
    "\n",
    "- [wikipedia:](https://en.wikipedia.org/wiki/Data_science)\n",
    "Data science is an inter-disciplinary field that uses scientific methods, processes, algorithms and systems to extract knowledge and insights from many structural and unstructured data. Data science is related to data mining, deep learning and big data.\n",
    "\n",
    "- data collection/mining\n",
    "  - structured\n",
    "  - unstructured\n",
    "- visualization\n",
    "  - matplotlib\n",
    "- analysis\n",
    "  - Linear regression\n",
    "  - model\n",
    "- reflection\n",
    "  \n",
    "  "
   ]
  },
  {
   "cell_type": "code",
   "execution_count": null,
   "metadata": {},
   "outputs": [],
   "source": []
  }
 ],
 "metadata": {
  "kernelspec": {
   "display_name": "Python 3",
   "language": "python",
   "name": "python3"
  },
  "language_info": {
   "codemirror_mode": {
    "name": "ipython",
    "version": 3
   },
   "file_extension": ".py",
   "mimetype": "text/x-python",
   "name": "python",
   "nbconvert_exporter": "python",
   "pygments_lexer": "ipython3",
   "version": "3.7.6"
  }
 },
 "nbformat": 4,
 "nbformat_minor": 4
}
