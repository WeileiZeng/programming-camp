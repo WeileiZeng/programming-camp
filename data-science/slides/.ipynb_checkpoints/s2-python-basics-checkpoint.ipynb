{
 "cells": [
  {
   "cell_type": "markdown",
   "metadata": {},
   "source": [
    "# Session 2: python basics\n",
    "- operators\n",
    "- string\n",
    "- conditions\n",
    "- loop\n",
    "- function"
   ]
  },
  {
   "cell_type": "markdown",
   "metadata": {},
   "source": [
    "## Anaconda\n",
    "- create and save .ipynb notebook files\n",
    "- shut down kernels\n",
    "- open and close anaconda and jupyter Lab"
   ]
  },
  {
   "cell_type": "code",
   "execution_count": 33,
   "metadata": {},
   "outputs": [
    {
     "name": "stdout",
     "output_type": "stream",
     "text": [
      "[1, 3, 5, 7, 2, 4, 6, 8]\n"
     ]
    }
   ],
   "source": [
    "even_numbers = [2,4,6,8]\n",
    "odd_numbers = [1,3,5,7]\n",
    "all_numbers = odd_numbers + even_numbers\n",
    "print(all_numbers)\n",
    "# all_numbers.sort()\n",
    "# print(all_numbers)"
   ]
  },
  {
   "cell_type": "code",
   "execution_count": 9,
   "metadata": {},
   "outputs": [
    {
     "name": "stdout",
     "output_type": "stream",
     "text": [
      "[1, 2, 3, 1, 2, 3, 1, 2, 3]\n"
     ]
    }
   ],
   "source": [
    "print([1,2,3] * 3)"
   ]
  },
  {
   "cell_type": "code",
   "execution_count": 8,
   "metadata": {},
   "outputs": [
    {
     "name": "stdout",
     "output_type": "stream",
     "text": [
      "[0, 1, 2, 3, 4, 5, 6, 7, 8, 9, 10, 9, 8, 7, 6, 5, 4, 3, 2, 1, 'hello', 'hello', 'hello', 'hello', 'hello']\n"
     ]
    }
   ],
   "source": [
    "mylist=[0, 1, 2, 3, 4, 5, 6, 7, 8, 9, 10, 9, 8, 7, 6, 5, 4, 3, 2, 1, 'hello', 'hello', 'hello', 'hello', 'hello']\n",
    "print(mylist)\n",
    "#mylist2=list(range(10)) + list(range(10,0,-1)) + ['hello']*5\n",
    "#print(mylist2)"
   ]
  },
  {
   "cell_type": "code",
   "execution_count": 27,
   "metadata": {},
   "outputs": [
    {
     "name": "stdout",
     "output_type": "stream",
     "text": [
      "1\n",
      "[1, 3]\n"
     ]
    }
   ],
   "source": [
    "# index\n",
    "b = [0, 1, 2, 3, 4, 5, 6, 7, 8, 9]\n",
    "\n",
    "print(b[1])\n",
    "print(b[1:5:2])"
   ]
  },
  {
   "cell_type": "markdown",
   "metadata": {},
   "source": [
    "**Range as a list**"
   ]
  },
  {
   "cell_type": "code",
   "execution_count": 14,
   "metadata": {},
   "outputs": [
    {
     "name": "stdout",
     "output_type": "stream",
     "text": [
      "range(0, 10)\n",
      "9\n",
      "a=[0,1,2,3,4,5,6,7,8,9]\n"
     ]
    }
   ],
   "source": [
    "a = range(0,10)\n",
    "print(a)\n",
    "print(a[9])\n",
    "print('a=['+','.join([str(a[_]) for _ in a]) + ']') # print the whole list/range"
   ]
  },
  {
   "cell_type": "code",
   "execution_count": 18,
   "metadata": {},
   "outputs": [
    {
     "name": "stdout",
     "output_type": "stream",
     "text": [
      "0\n",
      "0\n",
      "n= 8 , a[n] =  8 , b[n]= 8\n"
     ]
    }
   ],
   "source": [
    "a = range(0,10)\n",
    "b = [0, 1, 2, 3, 4, 5, 6, 7, 8, 9]\n",
    "print(a[0])\n",
    "print(b[0])\n",
    "n=8\n",
    "print('n=',n,', a[n] = ',a[n],', b[n]=',b[n])"
   ]
  },
  {
   "cell_type": "code",
   "execution_count": 26,
   "metadata": {},
   "outputs": [
    {
     "name": "stdout",
     "output_type": "stream",
     "text": [
      "a=[2,4,6,8]\n"
     ]
    }
   ],
   "source": [
    "# range(start, end, step-size)\n",
    "\n",
    "a = range(10)\n",
    "a = range(0,10)\n",
    "a = range(2,10,2)\n",
    "print('a=['+','.join([str(_) for _ in a]) + ']')"
   ]
  },
  {
   "cell_type": "markdown",
   "metadata": {},
   "source": [
    "## Basic String operator\n",
    "https://www.learnpython.org/en/Basic_String_Operations\n",
    "This tutorial is unnecessarily long, one can go ahead for the exercise"
   ]
  },
  {
   "cell_type": "code",
   "execution_count": 1,
   "metadata": {},
   "outputs": [
    {
     "name": "stdout",
     "output_type": "stream",
     "text": [
      "Length of s = 38\n",
      "The first occurrence of the letter a = 13\n",
      "a occurs 1 times\n",
      "The first five characters are 'Hey t'\n",
      "The next five characters are 'here!'\n",
      "The thirteenth character is 'h'\n",
      "The characters with odd index are 'e hr!wa hudti tigb?'\n",
      "The last five characters are 'g be?'\n",
      "String in uppercase: HEY THERE! WHAT SHOULD THIS STRING BE?\n",
      "String in lowercase: hey there! what should this string be?\n",
      "Split the words of the string: ['Hey', 'there!', 'what', 'should', 'this', 'string', 'be?']\n"
     ]
    }
   ],
   "source": [
    "# Exercise\n",
    "\n",
    "s = \"Hey there! what should this string be?\"\n",
    "# Length should be 20\n",
    "print(\"Length of s = %d\" % len(s))\n",
    "\n",
    "# First occurrence of \"a\" should be at index 8\n",
    "print(\"The first occurrence of the letter a = %d\" % s.index(\"a\"))\n",
    "\n",
    "# Number of a's should be 2\n",
    "print(\"a occurs %d times\" % s.count(\"a\"))\n",
    "\n",
    "# Slicing the string into bits\n",
    "print(\"The first five characters are '%s'\" % s[:5]) # Start to 5\n",
    "print(\"The next five characters are '%s'\" % s[5:10]) # 5 to 10\n",
    "print(\"The thirteenth character is '%s'\" % s[12]) # Just number 12\n",
    "print(\"The characters with odd index are '%s'\" %s[1::2]) #(0-based indexing)\n",
    "print(\"The last five characters are '%s'\" % s[-5:]) # 5th-from-last to end\n",
    "\n",
    "# Convert everything to uppercase\n",
    "print(\"String in uppercase: %s\" % s.upper())\n",
    "\n",
    "# Convert everything to lowercase\n",
    "print(\"String in lowercase: %s\" % s.lower())\n",
    "\n",
    "# Check how a string starts\n",
    "if s.startswith(\"Str\"):\n",
    "    print(\"String starts with 'Str'. Good!\")\n",
    "\n",
    "# Check how a string ends\n",
    "if s.endswith(\"ome!\"):\n",
    "    print(\"String ends with 'ome!'. Good!\")\n",
    "\n",
    "# Split the string into three separate strings,\n",
    "# each containing only a word\n",
    "print(\"Split the words of the string: %s\" % s.split(\" \"))"
   ]
  },
  {
   "cell_type": "markdown",
   "metadata": {},
   "source": [
    "## Use range() as a list"
   ]
  },
  {
   "cell_type": "code",
   "execution_count": 2,
   "metadata": {},
   "outputs": [
    {
     "name": "stdout",
     "output_type": "stream",
     "text": [
      "a=[0,2,4,6,8]\n"
     ]
    }
   ],
   "source": [
    "#range(start, end, step-size)\n",
    "range(10)\n",
    "a=range(2,5)\n",
    "a= range(0,10,2)\n",
    "\n",
    "#this will print the list\n",
    "print('a=['+','.join([str(i) for i in a]) + ']')\n",
    "\n"
   ]
  },
  {
   "cell_type": "code",
   "execution_count": 55,
   "metadata": {},
   "outputs": [
    {
     "name": "stdout",
     "output_type": "stream",
     "text": [
      "b=[2,6]\n"
     ]
    }
   ],
   "source": [
    "# use [] to get a subset of the range/list/string\n",
    "b=a[1::2]\n",
    "print('b=['+','.join([str(i) for i in b]) + ']')"
   ]
  },
  {
   "cell_type": "code",
   "execution_count": 56,
   "metadata": {},
   "outputs": [
    {
     "name": "stdout",
     "output_type": "stream",
     "text": [
      "------- encryption ---------\n",
      "even=\t hlo ie hsi  i ert ednthv ls m\n",
      "odd=\t el,Mk!Ti sabgsce:w o' aecastr\n",
      "output=\t hlo ie hsi  i ert ednthv ls mel,Mk!Ti sabgsce:w o' aecastr\n",
      "------- decyption ---------\n",
      "58 29\n",
      "left=\t hlo ie hsi  i ert ednthv ls m\n",
      "right=\t el,Mk!Ti sabgsce:w o' aecastr\n",
      "decoded= hello, Mike! This is a big secret: we don't have class tmr\n"
     ]
    }
   ],
   "source": [
    "# Exercise\n",
    "# Encode and decode a string by mixing its characters in odd and even locations.\n",
    "# sample input: hello\n",
    "# sample output: hlo + el = hloel\n",
    "\n",
    "# input message\n",
    "text='hello'\n",
    "text='hello, Mike! This is a big secret: we don\\'t have class tmr'\n",
    "\n",
    "# make sure it has even length\n",
    "if len(text) % 2 == 1:\n",
    "    text += ' ' # add a space to avoid odd length.\n",
    "\n",
    "# encryption/encoding\n",
    "print('------- encryption ---------')\n",
    "#get characters at even and odd locations\n",
    "even=text[::2]\n",
    "print('even=\\t',even) # \\t for tab\n",
    "odd=text[1::2]\n",
    "print('odd=\\t',odd)\n",
    "\n",
    "output=even+odd\n",
    "print('output=\\t',output)\n",
    "\n",
    "\n",
    "print('------- decyption ---------')\n",
    "\n",
    "length=len(output)\n",
    "center=length//2  # // for interger result, this require length to be even\n",
    "print(length,center)\n",
    "left = output[:center]\n",
    "print('left=\\t',left)\n",
    "right = output[center:]\n",
    "print('right=\\t',right)\n",
    "\n",
    "# how to combine left and right together and decode the message?\n",
    "# It is easy with a for loop\n",
    "decoded=''\n",
    "for i in range(center):\n",
    "    decoded += (left[i])\n",
    "    decoded += (right[i])\n",
    "print('decoded=',decoded)\n"
   ]
  },
  {
   "cell_type": "markdown",
   "metadata": {},
   "source": [
    "## Conditions\n",
    "https://www.learnpython.org/en/Conditions"
   ]
  },
  {
   "cell_type": "code",
   "execution_count": 39,
   "metadata": {},
   "outputs": [
    {
     "name": "stdout",
     "output_type": "stream",
     "text": [
      "x is an odd number\n",
      "the if statement is finished\n"
     ]
    }
   ],
   "source": [
    "# indentation\n",
    "x = 3\n",
    "if ( x == 3 ):\n",
    "    print (\"x is an odd number\")\n",
    "else:\n",
    "    print (\"the statement is false\")\n",
    "    print (\"x doesn't equal to 3\")\n",
    "print (\"the if statement is finished\")"
   ]
  },
  {
   "cell_type": "code",
   "execution_count": 29,
   "metadata": {},
   "outputs": [],
   "source": [
    "# Exercise: Change the variables in the first section, so that each if statement resolves as True.\n",
    "number = 10\n",
    "second_number = 10\n",
    "first_array = []\n",
    "second_array = [1,2,3]\n",
    "\n",
    "if number > 15:\n",
    "    print(\"1\")\n",
    "\n",
    "if first_array:\n",
    "    print(\"2\")\n",
    "\n",
    "if len(second_array) == 2:\n",
    "    print(\"3\")\n",
    "\n",
    "if len(first_array) + len(second_array) == 5:\n",
    "    print(\"4\")\n",
    "\n",
    "if first_array and first_array[0] == 1:\n",
    "    print(\"5\")\n",
    "\n",
    "if not second_number:\n",
    "    print(\"6\")"
   ]
  },
  {
   "cell_type": "markdown",
   "metadata": {},
   "source": [
    "## Exercise\n",
    "- date fashion https://codingbat.com/prob/p129125\n",
    "- caught speed https://codingbat.com/prob/p137202\n",
    "- near 10 https://codingbat.com/prob/p165321"
   ]
  },
  {
   "cell_type": "code",
   "execution_count": null,
   "metadata": {},
   "outputs": [],
   "source": []
  }
 ],
 "metadata": {
  "kernelspec": {
   "display_name": "Python 3",
   "language": "python",
   "name": "python3"
  },
  "language_info": {
   "codemirror_mode": {
    "name": "ipython",
    "version": 3
   },
   "file_extension": ".py",
   "mimetype": "text/x-python",
   "name": "python",
   "nbconvert_exporter": "python",
   "pygments_lexer": "ipython3",
   "version": "3.7.6"
  }
 },
 "nbformat": 4,
 "nbformat_minor": 4
}
