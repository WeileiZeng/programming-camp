{
 "cells": [
  {
   "cell_type": "markdown",
   "metadata": {},
   "source": [
    "# Session 4: python basics\n",
    "- functions\n",
    "- module"
   ]
  },
  {
   "cell_type": "code",
   "execution_count": 1,
   "metadata": {},
   "outputs": [
    {
     "name": "stdout",
     "output_type": "stream",
     "text": [
      "2 is a prime \n",
      "3 is a prime \n",
      "5 is a prime \n",
      "7 is a prime \n",
      "11 is a prime \n",
      "13 is a prime \n",
      "17 is a prime \n",
      "19 is a prime \n",
      "23 is a prime \n",
      "29 is a prime \n",
      "31 is a prime \n",
      "37 is a prime \n",
      "41 is a prime \n",
      "43 is a prime \n",
      "47 is a prime \n",
      "53 is a prime \n",
      "59 is a prime \n",
      "61 is a prime \n",
      "67 is a prime \n",
      "71 is a prime \n",
      "73 is a prime \n",
      "79 is a prime \n",
      "83 is a prime \n",
      "89 is a prime \n",
      "97 is a prime \n"
     ]
    }
   ],
   "source": [
    "# print all prime numbers smaller than m\n",
    "\n",
    "m = 100\n",
    "\n",
    "for n in range(2,m):\n",
    "    # check if n is a prime or not\n",
    "\n",
    "    flag = True \n",
    "    # True means n is a prime\n",
    "\n",
    "    # check if n can be devided by 1, 2,....,n-1\n",
    "    for i in range(2,n):\n",
    "        if n % i == 0 :\n",
    "            # n can be devided by i, so it is not a prime\n",
    "            flag = False\n",
    "            break\n",
    "\n",
    "    if flag :\n",
    "        print(n, \"is a prime \")\n",
    "    #else:\n",
    "        #print(n , \" is not a prime\")\n",
    "\n"
   ]
  },
  {
   "cell_type": "code",
   "execution_count": 15,
   "metadata": {},
   "outputs": [
    {
     "name": "stdout",
     "output_type": "stream",
     "text": [
      "2 is indeed a prime \n",
      "3 is indeed a prime \n",
      "5 is indeed a prime \n",
      "7 is indeed a prime \n"
     ]
    }
   ],
   "source": [
    "# print all prime numbers smaller than m\n",
    "\n",
    "\n",
    "\n",
    "#check if n is a prime or not\n",
    "def is_prime(n):\n",
    "    flag = True \n",
    "    # True means n is a prime\n",
    "\n",
    "    # check if n can be devided by 1, 2,....,n-1\n",
    "    for i in range(2,n):\n",
    "        if n % i == 0 :\n",
    "            # n can be devided by i, so it is not a prime\n",
    "            flag = False\n",
    "            break\n",
    "\n",
    "    if flag :\n",
    "        print(n, \"is indeed a prime \")\n",
    "    #else:\n",
    "        #print(n , \" is not a prime\")\n",
    "        \n",
    "# return all prime numbers smaller than m    \n",
    "def get_primes(m):\n",
    "    for n in range(2,m):\n",
    "        # check if n is a prime or not\n",
    "        is_prime(n)\n",
    "        \n",
    "#m = 100\n",
    "get_primes(10)\n"
   ]
  },
  {
   "cell_type": "markdown",
   "metadata": {},
   "source": [
    "## Functions\n",
    "https://www.learnpython.org/en/Functions"
   ]
  },
  {
   "cell_type": "code",
   "execution_count": 32,
   "metadata": {},
   "outputs": [
    {
     "name": "stdout",
     "output_type": "stream",
     "text": [
      "2 is a prime \n",
      "3 is a prime \n",
      "5 is a prime \n",
      "7 is a prime \n",
      "11 is a prime \n",
      "13 is a prime \n",
      "17 is a prime \n",
      "19 is a prime \n",
      "23 is a prime \n",
      "29 is a prime \n",
      "31 is a prime \n",
      "37 is a prime \n",
      "41 is a prime \n",
      "43 is a prime \n",
      "47 is a prime \n",
      "53 is a prime \n",
      "59 is a prime \n",
      "61 is a prime \n",
      "67 is a prime \n",
      "71 is a prime \n",
      "73 is a prime \n",
      "79 is a prime \n",
      "83 is a prime \n",
      "89 is a prime \n",
      "97 is a prime \n",
      "primes smaller than 100 are [2, 3, 5, 7, 11, 13, 17, 19, 23, 29, 31, 37, 41, 43, 47, 53, 59, 61, 67, 71, 73, 79, 83, 89, 97]\n"
     ]
    }
   ],
   "source": [
    "# Exercise: return primes numbers smaller than m\n",
    "# print all prime numbers smaller than m\n",
    "\n",
    "# return True if n is a prime, and False otherwise\n",
    "def is_prime(n):\n",
    "    flag = True \n",
    "    # True means n is a prime\n",
    "\n",
    "    # check if n can be devided by 1, 2,....,n-1\n",
    "    for i in range(2,n):\n",
    "        if n % i == 0 :\n",
    "            # n can be devided by i, so it is not a prime\n",
    "            flag = False\n",
    "            break\n",
    "\n",
    "    if flag :\n",
    "        print(n, \"is a prime \")\n",
    "    return flag\n",
    "\n",
    "# return a list of primes numbers smaller than m\n",
    "def get_primes(m):\n",
    "    primes=[]\n",
    "    for i in range(2, m):\n",
    "        if is_prime(i):\n",
    "            primes.append(i)\n",
    "            \n",
    "    return primes\n",
    "    \n",
    "m = 100\n",
    "\n",
    "primes=get_primes(m)\n",
    "print('primes smaller than',m,'are',primes)\n",
    "\n",
    "\n"
   ]
  },
  {
   "cell_type": "code",
   "execution_count": null,
   "metadata": {},
   "outputs": [],
   "source": [
    "# Modify this function to return a list of strings as defined above\n",
    "def list_benefits():\n",
    "    pass\n",
    "\n",
    "# Modify this function to concatenate to each benefit - \" is a benefit of functions!\"\n",
    "def build_sentence(benefit):\n",
    "    pass\n",
    "\n",
    "def name_the_benefits_of_functions():\n",
    "    list_of_benefits = list_benefits()\n",
    "    for benefit in list_of_benefits:\n",
    "        print(build_sentence(benefit))\n",
    "\n",
    "name_the_benefits_of_functions()"
   ]
  },
  {
   "cell_type": "markdown",
   "metadata": {},
   "source": [
    "## List sort()"
   ]
  },
  {
   "cell_type": "code",
   "execution_count": 14,
   "metadata": {},
   "outputs": [
    {
     "name": "stdout",
     "output_type": "stream",
     "text": [
      "['BMW', 'Ford', 'Volvo']\n",
      "['Volvo', 'Ford', 'BMW']\n"
     ]
    }
   ],
   "source": [
    "cars = ['Ford', 'BMW', 'Volvo']\n",
    "cars.sort()\n",
    "print(cars)\n",
    "cars.sort(reverse=True)\n",
    "print(cars)"
   ]
  },
  {
   "cell_type": "code",
   "execution_count": 13,
   "metadata": {},
   "outputs": [
    {
     "name": "stdout",
     "output_type": "stream",
     "text": [
      "true\n"
     ]
    }
   ],
   "source": [
    "#abcdefg...\n",
    "\n",
    "if 'hello' < 'world':\n",
    "    print(\"true\")\n",
    "else:\n",
    "    print(\"false\")\n"
   ]
  },
  {
   "cell_type": "markdown",
   "metadata": {},
   "source": [
    "## Dictionary (skipped)\n",
    "https://www.learnpython.org/en/Dictionaries"
   ]
  },
  {
   "cell_type": "code",
   "execution_count": 58,
   "metadata": {},
   "outputs": [
    {
     "name": "stdout",
     "output_type": "stream",
     "text": [
      "['Jack', 'Jill', 'John']\n",
      "938377264,947662781,938477566\n",
      "{'John': 938477566, 'Jack': 938377264, 'Jill': 947662781}\n"
     ]
    }
   ],
   "source": [
    "phonebook = {}\n",
    "phonebook[\"John\"] = 938477566\n",
    "phonebook[\"Jack\"] = 938377264\n",
    "phonebook[\"Jill\"] = 947662781\n",
    "k=(list(phonebook.keys()))\n",
    "k.sort()\n",
    "print(k)\n",
    "print(','.join(str(phonebook[key]) for key in k))\n",
    "print(phonebook)"
   ]
  },
  {
   "cell_type": "markdown",
   "metadata": {},
   "source": [
    "## module\n"
   ]
  },
  {
   "cell_type": "code",
   "execution_count": 5,
   "metadata": {},
   "outputs": [
    {
     "name": "stdout",
     "output_type": "stream",
     "text": [
      "1.0\n",
      "3.141592653589793\n",
      "1.0\n",
      "8.0\n",
      "['__doc__', '__file__', '__loader__', '__name__', '__package__', '__spec__', 'acos', 'acosh', 'asin', 'asinh', 'atan', 'atan2', 'atanh', 'ceil', 'copysign', 'cos', 'cosh', 'degrees', 'e', 'erf', 'erfc', 'exp', 'expm1', 'fabs', 'factorial', 'floor', 'fmod', 'frexp', 'fsum', 'gamma', 'gcd', 'hypot', 'inf', 'isclose', 'isfinite', 'isinf', 'isnan', 'ldexp', 'lgamma', 'log', 'log10', 'log1p', 'log2', 'modf', 'nan', 'pi', 'pow', 'radians', 'remainder', 'sin', 'sinh', 'sqrt', 'tan', 'tanh', 'tau', 'trunc']\n"
     ]
    }
   ],
   "source": [
    "# built-in math module\n",
    "\n",
    "\n",
    "import math\n",
    "print(math.cos(0))\n",
    "print(math.pi)\n",
    "print(math.log(10,10))\n",
    "print(math.pow(2,3))  #2**3\n",
    "print(dir(math)) # print functions defines in a module\n",
    "\n",
    "# try to calculate cosine of 90 degree"
   ]
  },
  {
   "cell_type": "code",
   "execution_count": 11,
   "metadata": {},
   "outputs": [
    {
     "data": {
      "text/plain": [
       "-0.4161468365471424"
      ]
     },
     "execution_count": 11,
     "metadata": {},
     "output_type": "execute_result"
    }
   ],
   "source": [
    "#from math import *\n",
    "from math import cos\n",
    "cos(2)\n",
    "#sin(3)"
   ]
  },
  {
   "cell_type": "code",
   "execution_count": 6,
   "metadata": {},
   "outputs": [
    {
     "data": {
      "text/plain": [
       "0.7071067811865476"
      ]
     },
     "execution_count": 6,
     "metadata": {},
     "output_type": "execute_result"
    }
   ],
   "source": [
    "# demonstration of pi\n",
    "\n",
    "#import math\n",
    "#pi=math.pi\n",
    "\n",
    "from math import pi, cos\n",
    "\n",
    "# 90 --> pi/2\n",
    "# convert degree to radius\n",
    "def degree2radius(deg):\n",
    "    rad = deg /180.0 * pi    \n",
    "    return rad\n",
    "\n",
    "\n",
    "cos(degree2radius(45))\n"
   ]
  },
  {
   "cell_type": "markdown",
   "metadata": {},
   "source": [
    "#### Exercise\n",
    "write your own module named `foo`, with a function to distribute $x$ apples among $m$ people\n",
    "to be fair, please try to make the distribution as even as possible, otherwise the kids will cry.\n",
    "\n",
    "How to ?\n",
    "- create a file `foo.py` in current folder\n",
    "- write a function hand_out(x, n), which return a list of length $n$, and each element refers how many people a person will get.\n"
   ]
  },
  {
   "cell_type": "code",
   "execution_count": 1,
   "metadata": {},
   "outputs": [
    {
     "name": "stdout",
     "output_type": "stream",
     "text": [
      "each person will get  1.0 apple\n"
     ]
    }
   ],
   "source": [
    "import foo\n",
    "\n",
    "foo.hand_out(5,5)\n"
   ]
  },
  {
   "cell_type": "code",
   "execution_count": 1,
   "metadata": {},
   "outputs": [
    {
     "name": "stdout",
     "output_type": "stream",
     "text": [
      "each person will get  1.0 apple\n",
      "1.0\n",
      "each person will get  2.5 apple\n",
      "2.5\n",
      "each person will get  0.4 apple\n",
      "0.4\n"
     ]
    }
   ],
   "source": [
    "# now test your own module by running the followng code\n",
    "from foo import hand_out\n",
    "\n",
    "# hand out 6 apples to 6 people\n",
    "# sample output: [1,1,1,1,1,1]\n",
    "print(hand_out(6,6))\n",
    "\n",
    "# hand out 5 apples to 2 people\n",
    "# sample output: [2,2,1]\n",
    "print(hand_out(5,2))\n",
    "\n",
    "\n",
    "# hand out 2 apples to 5 people\n",
    "# sample output: [1,1,0,0,0]\n",
    "# sample output: there are not enough apples for everyone, please prepare more and comeback\n",
    "print(hand_out(2,5))\n"
   ]
  },
  {
   "cell_type": "code",
   "execution_count": 1,
   "metadata": {},
   "outputs": [
    {
     "name": "stdout",
     "output_type": "stream",
     "text": [
      "[[0.00897128 0.75486901 0.23223753 0.84995194 0.96990111]\n",
      " [0.73573661 0.48540583 0.79711853 0.51515056 0.46445151]\n",
      " [0.75496816 0.83759476 0.37667149 0.69858738 0.77746701]\n",
      " [0.45337058 0.2526138  0.38558539 0.949312   0.27098266]]\n"
     ]
    }
   ],
   "source": [
    "# Exercise: Calculate the value of pi\n",
    "# define the function in a module (foo.py)\n",
    "\n",
    "# method: \n",
    "# given a square of size 4r^2, its biggest inner circle has radius r and \n",
    "# area pi r^2. If we throw a ball into the square, the chance for the ball\n",
    "# to fall in to the circle is pi/4, and the result depends!\n",
    "# But what if you throw 100 balls? 10,000 balls?\n",
    "# The ratio of balls inside will approach pi/4!\n",
    "# Hence 4 times the ratio give you pi\n",
    "\n",
    "import foo\n",
    "#from foo import fun\n",
    "\n",
    "#dir(foo)\n",
    "foo.get_pi()\n",
    "\n",
    "#get_pi\n",
    "    \n",
    "    "
   ]
  },
  {
   "cell_type": "code",
   "execution_count": 1,
   "metadata": {},
   "outputs": [
    {
     "data": {
      "text/plain": [
       "3.16"
      ]
     },
     "execution_count": 1,
     "metadata": {},
     "output_type": "execute_result"
    }
   ],
   "source": [
    "# see notebook for descripton of method\n",
    "#import numpy as np\n",
    "\n",
    "import random\n",
    "\n",
    "def is_in_circle(x,y,r):\n",
    "    if ( x**2 + y**2 <= r**2):\n",
    "        return True\n",
    "    else:\n",
    "        return False\n",
    "    \n",
    "# def get_better_pi() continue run more trials, and calculate average\n",
    "# def get_pi(n)\n",
    "def get_pi(n=100):\n",
    "#    n=100000       # number of balls\n",
    "    r=10.0     # radius of the circle\n",
    "#    x_list=[]\n",
    "    #xy_list = np.random.rand(2, n)*r\n",
    "    #print(xy_list)\n",
    "    count=0\n",
    "    for i in range(n):\n",
    "        #x=xy_list[0][i]\n",
    "        #y=xy_list[1][i]\n",
    "        x = random.random()*r\n",
    "        y = random.random()*r\n",
    "        if is_in_circle(x,y,r):\n",
    "            count +=1\n",
    "    #print('count = ',count)\n",
    "    pi = count/n*4\n",
    "    #print('pi = ', pi )\n",
    "    return pi\n",
    "    \n",
    "get_pi()"
   ]
  },
  {
   "cell_type": "code",
   "execution_count": 8,
   "metadata": {},
   "outputs": [
    {
     "name": "stdout",
     "output_type": "stream",
     "text": [
      "3.1404\n",
      "3.1371599999999997\n",
      "3.1391733333333334\n",
      "3.14006\n",
      "3.139264\n",
      "3.138973333333333\n",
      "3.1408914285714284\n",
      "3.14229\n",
      "3.143448888888889\n",
      "3.144192\n"
     ]
    }
   ],
   "source": [
    "# return average of a list\n",
    "def average(values):\n",
    "    s=0\n",
    "    for v in values:\n",
    "        s = s + v\n",
    "    a=s/len(values)\n",
    "    return a\n",
    "    \n",
    "def get_better_pi():\n",
    "    values=[]\n",
    "    for i in range(10):\n",
    "        values.append(get_pi(50000))\n",
    "        print( average(values))\n",
    "\n",
    "    \n",
    "get_better_pi()\n"
   ]
  },
  {
   "cell_type": "markdown",
   "metadata": {},
   "source": [
    "## matplotlib\n",
    "- pyplot\n",
    "- linear fit"
   ]
  },
  {
   "cell_type": "code",
   "execution_count": 7,
   "metadata": {},
   "outputs": [
    {
     "data": {
      "image/png": "[encoded data removed]",
      "text/plain": [
       "<Figure size 432x288 with 1 Axes>"
      ]
     },
     "metadata": {
      "needs_background": "light"
     },
     "output_type": "display_data"
    }
   ],
   "source": [
    "import matplotlib.pyplot as plt\n",
    "weight = [45.8,47.6,52.1,53.5,54.4,56.7,57.1,58.0]\n",
    "height = [156.7,158.7, 159.7,162.5,162.5,163,163,163.3]\n",
    "\n",
    "plt.plot(height,weight)\n",
    "plt.title(\"weight versus height for teenage girls, 13-20 years\")\n",
    "plt.xlabel(\"height (cm)\")\n",
    "plt.ylabel(\"weight (kg)\")\n",
    "\n",
    "# plot a function\n",
    "import numpy as np\n",
    "h = np.arange(157., 163., .1)\n",
    "w = 1.9 * h - 270 + 17\n",
    "# red dashes, blue squares and green triangles\n",
    "#plt.plot(h, w, 'r--')\n",
    "\n",
    "# this is a mimic of linear regression/linear fit\n"
   ]
  },
  {
   "cell_type": "markdown",
   "metadata": {},
   "source": [
    "## pandas\n",
    "pandas is a package for data manipulation\n",
    "- date range\n",
    "- Series\n",
    "- DataFrame vs. spread sheet"
   ]
  },
  {
   "cell_type": "code",
   "execution_count": 60,
   "metadata": {},
   "outputs": [
    {
     "name": "stdout",
     "output_type": "stream",
     "text": [
      "0    77\n",
      "1    76\n",
      "2    75\n",
      "3    75\n",
      "4    73\n",
      "dtype: int64\n"
     ]
    },
    {
     "data": {
      "text/plain": [
       "<matplotlib.axes._subplots.AxesSubplot at 0x7fc2899fce50>"
      ]
     },
     "execution_count": 60,
     "metadata": {},
     "output_type": "execute_result"
    },
    {
     "data": {
      "image/png": "[encoded data removed]",
      "text/plain": [
       "<Figure size 432x288 with 1 Axes>"
      ]
     },
     "metadata": {
      "needs_background": "light"
     },
     "output_type": "display_data"
    }
   ],
   "source": [
    "from pandas import Series\n",
    "\n",
    "#temperature=list(np.random.randint(low=70,high=90,size=48))\n",
    "temperature = [77, 76, 75, 75, 73, 72, 73, 75, 77, 77, 79, 80, \n",
    "     79, 85, 88, 90, 92, 91, 88, 86, 88, 84, 84, 84, \n",
    "     82, 81, 79, 76, 75, 77, 78, 77, 81, 83, 85, 90, \n",
    "     93, 99, 96, 97, 99, 98, 95, 94, 92, 92, 85, 84, 83]\n",
    "#np.random.rand\n",
    "t=temperature\n",
    "s = Series(t)\n",
    "print(s.head())\n",
    "s.plot()\n",
    "#print(t)"
   ]
  },
  {
   "cell_type": "code",
   "execution_count": 62,
   "metadata": {},
   "outputs": [
    {
     "name": "stdout",
     "output_type": "stream",
     "text": [
      "2020-07-01 00:00:00    77\n",
      "2020-07-01 01:00:00    76\n",
      "2020-07-01 02:00:00    75\n",
      "2020-07-01 03:00:00    75\n",
      "2020-07-01 04:00:00    73\n",
      "Freq: H, dtype: int64\n"
     ]
    },
    {
     "data": {
      "text/plain": [
       "<matplotlib.axes._subplots.AxesSubplot at 0x7fc289a1b390>"
      ]
     },
     "execution_count": 62,
     "metadata": {},
     "output_type": "execute_result"
    },
    {
     "data": {
      "image/png": "[encoded data removed]",
      "text/plain": [
       "<Figure size 432x288 with 1 Axes>"
      ]
     },
     "metadata": {
      "needs_background": "light"
     },
     "output_type": "display_data"
    }
   ],
   "source": [
    "import pandas as pd\n",
    "# date range\n",
    "#t_range=pd.date_range('2016-01-01','2016-12-31',freq='W')\n",
    "t_range=pd.date_range('2020-07-01','2020-7-3',freq='H')\n",
    "t_range\n",
    "t_range[1]\n",
    "s= Series(t, index=t_range)\n",
    "print(s.head())\n",
    "s.plot()"
   ]
  },
  {
   "cell_type": "code",
   "execution_count": 77,
   "metadata": {},
   "outputs": [
    {
     "name": "stdout",
     "output_type": "stream",
     "text": [
      "            weight  height\n",
      "2020-07-11    45.8   156.7\n",
      "2020-07-12    47.6   158.7\n",
      "2020-07-13    52.1   159.7\n",
      "2020-07-14    53.5   162.5\n",
      "2020-07-15    54.4   162.5\n",
      "2020-07-16    56.7   163.0\n",
      "2020-07-17    57.1   163.0\n",
      "2020-07-18    58.0   163.3\n",
      "            weight  height\n",
      "2020-07-13    52.1   159.7\n",
      "2020-07-14    53.5   162.5\n",
      "2020-07-15    54.4   162.5\n",
      "2020-07-16    56.7   163.0\n",
      "2020-07-17    57.1   163.0\n",
      "2020-07-18    58.0   163.3\n"
     ]
    },
    {
     "data": {
      "image/png": "[encoded data removed]",
      "text/plain": [
       "<Figure size 432x288 with 1 Axes>"
      ]
     },
     "metadata": {
      "needs_background": "light"
     },
     "output_type": "display_data"
    },
    {
     "data": {
      "image/png": "[encoded data removed]",
      "text/plain": [
       "<Figure size 432x288 with 1 Axes>"
      ]
     },
     "metadata": {
      "needs_background": "light"
     },
     "output_type": "display_data"
    }
   ],
   "source": [
    "# DataFrame\n",
    "# sampe data: weight (kg) and height (cm)\n",
    "# source: https://www.disabled-world.com/calculators-charts/height-weight-teens.php\n",
    "import pandas\n",
    "from pandas import DataFrame\n",
    "weight = [45.8,47.6,52.1,53.5,54.4,56.7,57.1,58.0]\n",
    "height = [156.7,158.7, 159.7,162.5,162.5,163,163,163.3]\n",
    "\n",
    "t_range=pandas.date_range('2020-07-11','2020-07-18')\n",
    "df=DataFrame(index=t_range)\n",
    "df['weight']=weight\n",
    "df['height']=height\n",
    "df.plot()\n",
    "df.plot(x='height')\n",
    "print(df)\n",
    "print(df[df['weight']>50])"
   ]
  },
  {
   "cell_type": "markdown",
   "metadata": {},
   "source": [
    "## Data science\n",
    "\n",
    "- [wikipedia:](https://en.wikipedia.org/wiki/Data_science)\n",
    "Data science is an inter-disciplinary field that uses scientific methods, processes, algorithms and systems to extract knowledge and insights from many structural and unstructured data. Data science is related to data mining, deep learning and big data.\n",
    "\n",
    "- data collection/mining\n",
    "  - structured\n",
    "  - unstructured\n",
    "- visualization\n",
    "  - matplotlib\n",
    "- analysis\n",
    "  - Linear regression\n",
    "  - model\n",
    "- reflection\n",
    "  \n",
    "  "
   ]
  },
  {
   "cell_type": "code",
   "execution_count": null,
   "metadata": {},
   "outputs": [],
   "source": []
  }
 ],
 "metadata": {
  "kernelspec": {
   "display_name": "Python 3",
   "language": "python",
   "name": "python3"
  },
  "language_info": {
   "codemirror_mode": {
    "name": "ipython",
    "version": 3
   },
   "file_extension": ".py",
   "mimetype": "text/x-python",
   "name": "python",
   "nbconvert_exporter": "python",
   "pygments_lexer": "ipython3",
   "version": "3.7.6"
  }
 },
 "nbformat": 4,
 "nbformat_minor": 4
}
