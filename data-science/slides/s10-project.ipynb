{
 "cells": [
  {
   "cell_type": "markdown",
   "metadata": {},
   "source": [
    "# Session 10: final projects\n",
    "- presentation\n",
    "- further improvement\n",
    "- samples: \n",
    "  - twitter data for people's mood ( happy v.s. mad)\n",
    "  - crime rate\n",
    "- class review"
   ]
  },
  {
   "cell_type": "markdown",
   "metadata": {},
   "source": [
    "## twitter data\n",
    "- can we know if people are happy on that day?"
   ]
  },
  {
   "cell_type": "markdown",
   "metadata": {},
   "source": [
    "anaylsis: talk about relation between covid tweets and weekday-weekend schedules."
   ]
  },
  {
   "cell_type": "markdown",
   "metadata": {},
   "source": [
    "### More to do\n",
    "- check the frequency with weekdays and weekends\n",
    "- check degree of anxiety from the keywords, and relate to daily new cases"
   ]
  },
  {
   "cell_type": "markdown",
   "metadata": {},
   "source": [
    "## Final project\n",
    "\n",
    "- Leo\n",
    "  - trends of covid cases\n",
    "  - difference between China and US, period, weekends pattern, total\n",
    "  - write analysis for US cases\n",
    "  - download China data for comparison.\n",
    "  \n",
    "- Jay\n",
    "  - stocks of retail companies, \n",
    "  - diff in china and US\n",
    "  - get data from yahoo finance and plot\n",
    "  - write analysis\n",
    "  - classify those companies by total price, trends and type\n",
    "  \n",
    "- James\n",
    "  - crime\n",
    "  - download excel and save as csv\n",
    "  - read and plot in python\n",
    "\n"
   ]
  },
  {
   "cell_type": "markdown",
   "metadata": {},
   "source": [
    "### crime data:\n",
    "- https://nij.ojp.gov/funding/real-time-crime-forecasting-challenge\n",
    "- https://oag.ca.gov/crime\n",
    "- https://ucr.fbi.gov/crime-in-the-u.s/2019/preliminary-report/tables/table-1/table-1.xls\n",
    "- https://ucr.fbi.gov/hate-crime/2018/tables/table-2.xls\n",
    "- https://www.fbi.gov/services/cjis/ucr/publications#Hate-Crime%20Statistics\n",
    "- https://web.archive.org/web/20160602124958/https://www.fbi.gov/news/stories/2014/november/crime-statistics-for-2013-released\n",
    "- https://web.archive.org/web/20160428023232/http://www.disastercenter.com/crime/\n",
    "- https://www.census.gov/quickfacts/fact/table/US/PST045219\n",
    "- https://crime-statistics.co.uk/postcode/bt488hh\n",
    "\n",
    "\n",
    "#### comment:\n",
    "\n",
    "From those searching, it looks like crime statistics require quite a period for the data to come out. For concrete data, we can only get prelimilary data up to 2019. The data for 2020 is unstructured and hard to find.\n",
    "\n",
    "This make sense because such researches require accurate historical data. On the other hand, what we intend to do, is using some temperary information to predict crime rates in near future. This may or may not be that accurate, but could provide a pespective. A previous approach from Twitter data can be found [here](https://sci-hub.st/https://www.researchgate.net/publication/323532548_Mining_Twitter_data_for_crime_trend_prediction)\n",
    "\n",
    "### suggestions\n",
    "try this project\n",
    "https://nij.ojp.gov/funding/real-time-crime-forecasting-challenge\n",
    "\n",
    "\n",
    "### Presentation"
   ]
  },
  {
   "cell_type": "code",
   "execution_count": 3,
   "metadata": {},
   "outputs": [
    {
     "ename": "NameError",
     "evalue": "name 'pd' is not defined",
     "output_type": "error",
     "traceback": [
      "\u001b[1;31m---------------------------------------------------------------------------\u001b[0m",
      "\u001b[1;31mNameError\u001b[0m                                 Traceback (most recent call last)",
      "\u001b[1;32m<ipython-input-3-fa5e2dff6669>\u001b[0m in \u001b[0;36m<module>\u001b[1;34m\u001b[0m\n\u001b[0;32m      8\u001b[0m \u001b[1;32mfor\u001b[0m \u001b[0mf\u001b[0m \u001b[1;32min\u001b[0m \u001b[0mfiles\u001b[0m\u001b[1;33m[\u001b[0m\u001b[1;33m:\u001b[0m\u001b[1;33m]\u001b[0m\u001b[1;33m:\u001b[0m\u001b[1;33m\u001b[0m\u001b[1;33m\u001b[0m\u001b[0m\n\u001b[0;32m      9\u001b[0m     \u001b[0mfilename\u001b[0m \u001b[1;33m=\u001b[0m \u001b[0mfolder\u001b[0m \u001b[1;33m+\u001b[0m \u001b[0mf\u001b[0m\u001b[1;33m\u001b[0m\u001b[1;33m\u001b[0m\u001b[0m\n\u001b[1;32m---> 10\u001b[1;33m     \u001b[0mdf\u001b[0m\u001b[1;33m=\u001b[0m\u001b[0mpd\u001b[0m\u001b[1;33m.\u001b[0m\u001b[0mread_excel\u001b[0m\u001b[1;33m(\u001b[0m\u001b[0mfilename\u001b[0m\u001b[1;33m)\u001b[0m\u001b[1;33m\u001b[0m\u001b[1;33m\u001b[0m\u001b[0m\n\u001b[0m\u001b[0;32m     11\u001b[0m \u001b[1;31m#    df\u001b[0m\u001b[1;33m\u001b[0m\u001b[1;33m\u001b[0m\u001b[1;33m\u001b[0m\u001b[0m\n\u001b[0;32m     12\u001b[0m \u001b[1;31m#    break\u001b[0m\u001b[1;33m\u001b[0m\u001b[1;33m\u001b[0m\u001b[1;33m\u001b[0m\u001b[0m\n",
      "\u001b[1;31mNameError\u001b[0m: name 'pd' is not defined"
     ]
    }
   ],
   "source": [
    "# crime data\n",
    "# data source: arrested table from https://ucr.fbi.gov/crime-in-the-u.s\n",
    "# read files into DataFrame and make sure they are in the same format\n",
    "folder='../sample-code/data/us-crime/'\n",
    "files=['table_31_number_and_rate_of_arrests_by_population_group_2015.xls',\n",
    "       'table-18-2016.xls','table-31-2017.xls','table-31-2018.xls']\n",
    "data=[]\n",
    "for f in files[:]:\n",
    "    filename = folder + f\n",
    "    df=pd.read_excel(filename)\n",
    "#    df\n",
    "#    break\n",
    "    df=df[5:-5]\n",
    "    data.append(df)\n",
    "    print(filename, df.head(2))\n",
    "#df"
   ]
  },
  {
   "cell_type": "code",
   "execution_count": null,
   "metadata": {},
   "outputs": [],
   "source": [
    "# now from these four tables, make a prediction for table in 2019 and 2020\n",
    "\n",
    "# example: robbery in group II\n",
    "\n",
    "# Group II (180 cities, 100,000 to 249,999;population 27,033,841)\n",
    "\n",
    "# print and plot data\n",
    "\n",
    "year=[2015,2016,2017,2018]\n",
    "robbery=[]\n",
    "for df in data:\n",
    "    robbery.append(df.iloc[4,1])\n",
    "print(robbery)\n",
    "\n",
    "plt.plot(year,robbery)"
   ]
  },
  {
   "cell_type": "markdown",
   "metadata": {},
   "source": [
    "The data from 2016 is not good, one should ignore it.\n",
    "\n",
    "Now the question is, how to predict?\n",
    "\n",
    "one option is linear fit/regression, find an expression for y = ax+b = a(x-x0)+y0\n",
    "\n"
   ]
  },
  {
   "cell_type": "code",
   "execution_count": null,
   "metadata": {},
   "outputs": [],
   "source": [
    "#slope\n",
    "a=(robbery[3]-robbery[1])/4.0\n",
    "y0=sum(robbery)/len(robbery)\n",
    "x0=sum(year)/len(year) #average of year\n",
    "\n",
    "def predict(x0,y0,a,x):\n",
    "    y = a*(x-x0)+y0\n",
    "    return y\n",
    "\n",
    "print('2019:',predict(x0,y0,a,2019))\n",
    "print('2020:',predict(x0,y0,a,2020))\n",
    "print('2022:',predict(x0,y0,a,2022))"
   ]
  },
  {
   "cell_type": "code",
   "execution_count": null,
   "metadata": {},
   "outputs": [],
   "source": [
    "# now it is time to predict everything all together\n",
    "\n",
    "# make a new data frame with simlar header, and fill predicted values into it one by one\n",
    "\n"
   ]
  },
  {
   "cell_type": "markdown",
   "metadata": {},
   "source": [
    "## Review\n",
    "\n",
    "### Python basics\n",
    "- IDE\n",
    "  - anaconda, jupyterlab, jupyter notebook\n",
    "  - Google CoLab\n",
    "  - pyCharm, python, etc\n",
    "- Files\n",
    "  - .ipynb for notebook\n",
    "  - .py for pure python codes\n",
    "- datatype\n",
    "  - int, float, string\n",
    "  - list\n",
    "- logics\n",
    "  - condition, if\n",
    "  - loop, for, while\n",
    "- function\n",
    "  - a set of commands\n",
    "  - with parameters and returned value\n",
    "- module\n",
    "  - math\n",
    "  - pandas, Series, DataFrame\n",
    "  - matplotlab.pyplot\n",
    "  - pandas_datareader\n",
    "  \n",
    "### Data science\n",
    "- goal/title\n",
    "- why? background/introduction\n",
    "- data source\n",
    "- visualization and analysis\n",
    "- result/implication\n",
    "- so what? conclustion/open queations\n",
    "\n",
    "### More?\n",
    "- how to learn more?\n",
    "  - google is always your best friend\n",
    "  - self-learn from internet\n",
    "    - https://www.datacamp.com/courses/tech:python\n",
    "    - https://realpython.com/\n",
    "  - more classes\n",
    "  - bookmark website for this class\n",
    "  \n",
    "\n",
    "\n",
    "\n"
   ]
  },
  {
   "cell_type": "code",
   "execution_count": null,
   "metadata": {},
   "outputs": [],
   "source": []
  }
 ],
 "metadata": {
  "kernelspec": {
   "display_name": "Python 3",
   "language": "python",
   "name": "python3"
  },
  "language_info": {
   "codemirror_mode": {
    "name": "ipython",
    "version": 3
   },
   "file_extension": ".py",
   "mimetype": "text/x-python",
   "name": "python",
   "nbconvert_exporter": "python",
   "pygments_lexer": "ipython3",
   "version": "3.7.4"
  }
 },
 "nbformat": 4,
 "nbformat_minor": 4
}
