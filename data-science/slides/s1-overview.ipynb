{
 "cells": [
  {
   "cell_type": "markdown",
   "metadata": {},
   "source": [
    "# Python overview: welcome to our first session\n",
    "  - GUI (graphics user interface)\n",
    "  - Anaconda and Jupyter Notebook\n",
    "  - hello world\n",
    "  - data types, operators\n",
    "  - [reading and practice](https://www.learnpython.org/en/Welcome)"
   ]
  },
  {
   "cell_type": "markdown",
   "metadata": {},
   "source": [
    "## Why Python?\n",
    "- Because it is popular.\n",
    "- Why is it popular?\n",
    "  - easy to learn\n",
    "  - human readable grammar\n",
    "  - no pre compilation"
   ]
  },
  {
   "cell_type": "markdown",
   "metadata": {},
   "source": [
    "## GUI\n",
    "What software to use?\n",
    "- CMD ( command line )\n",
    "- Python IDE\n",
    "- PyCharm\n",
    "- VS Code\n",
    "- __Anaconda and Jupyter Notebook__"
   ]
  },
  {
   "cell_type": "markdown",
   "metadata": {},
   "source": [
    "## Anaconda, JupyterLab and Jupyter Notebook\n",
    "Sounds like three software, but what you need is just Anaconda.\n",
    "- Jupyter Notebook let you see what you are running.\n",
    "- It is suitable for data science project, where a lot of explaination is needed for the code. eventually what one get is a report with all the code, results and analysis together.\n",
    "Here I show three different type of blocks with the same content"
   ]
  },
  {
   "cell_type": "raw",
   "metadata": {},
   "source": [
    "### This is a raw block\n",
    "print(\"hello world\")"
   ]
  },
  {
   "cell_type": "markdown",
   "metadata": {},
   "source": [
    "### This is a markdown block\n",
    "print(\"hello world\")"
   ]
  },
  {
   "cell_type": "code",
   "execution_count": 4,
   "metadata": {},
   "outputs": [
    {
     "name": "stdout",
     "output_type": "stream",
     "text": [
      "hello world\n"
     ]
    }
   ],
   "source": [
    "### This is a coding block\n",
    "print(\"hello world\")"
   ]
  },
  {
   "cell_type": "markdown",
   "metadata": {},
   "source": [
    "read more about how to use Jupyter Notebook\n",
    "https://realpython.com/jupyter-notebook-introduction/"
   ]
  },
  {
   "cell_type": "markdown",
   "metadata": {},
   "source": [
    "## Now it is time for Hello World"
   ]
  },
  {
   "cell_type": "code",
   "execution_count": 5,
   "metadata": {},
   "outputs": [
    {
     "name": "stdout",
     "output_type": "stream",
     "text": [
      "hello weilei\n"
     ]
    }
   ],
   "source": [
    "# this is an input code block. You will see its output by running it or by clicking \"shift+enter\"\n",
    "print(\"hello weilei\")"
   ]
  },
  {
   "cell_type": "markdown",
   "metadata": {},
   "source": [
    "## Data type\n",
    "- float\n",
    "- int\n",
    "- string\n",
    "- boolean"
   ]
  },
  {
   "cell_type": "code",
   "execution_count": 6,
   "metadata": {},
   "outputs": [],
   "source": [
    "myfloat=0.1\n",
    "myint=2\n",
    "mystring=\"hello\"\n",
    "myboolean= True"
   ]
  },
  {
   "cell_type": "code",
   "execution_count": 7,
   "metadata": {},
   "outputs": [
    {
     "name": "stdout",
     "output_type": "stream",
     "text": [
      "area =  3.0\n"
     ]
    }
   ],
   "source": [
    "# Use python as a calculator\n",
    "# The area of a triangle\n",
    "base=2.0\n",
    "height=3.0\n",
    "area=0.5*base*height\n",
    "print(\"area = \",area)"
   ]
  },
  {
   "cell_type": "code",
   "execution_count": 10,
   "metadata": {},
   "outputs": [
    {
     "name": "stdout",
     "output_type": "stream",
     "text": [
      "area =  3.14\n"
     ]
    }
   ],
   "source": [
    "# The area of a circle\n",
    "radius=1\n",
    "pi = 3.14\n",
    "area = pi * radius**2\n",
    "print(\"area = \",area)"
   ]
  },
  {
   "cell_type": "markdown",
   "metadata": {},
   "source": [
    "## Homework\n",
    "- create a notebook\n",
    "- print hello world\n",
    "- calculate the area of a circle of radius 10\n",
    "- email your notebook to weilei"
   ]
  },
  {
   "cell_type": "code",
   "execution_count": null,
   "metadata": {},
   "outputs": [],
   "source": []
  }
 ],
 "metadata": {
  "kernelspec": {
   "display_name": "Python 3",
   "language": "python",
   "name": "python3"
  },
  "language_info": {
   "codemirror_mode": {
    "name": "ipython",
    "version": 3
   },
   "file_extension": ".py",
   "mimetype": "text/x-python",
   "name": "python",
   "nbconvert_exporter": "python",
   "pygments_lexer": "ipython3",
   "version": "3.7.6"
  }
 },
 "nbformat": 4,
 "nbformat_minor": 4
}
