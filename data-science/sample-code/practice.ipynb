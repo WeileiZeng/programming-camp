{
 "cells": [
  {
   "cell_type": "code",
   "execution_count": 3,
   "metadata": {},
   "outputs": [],
   "source": [
    "#import pandas_datareader.data as web"
   ]
  },
  {
   "cell_type": "markdown",
   "metadata": {},
   "source": [
    "https://pandas-datareader.readthedocs.io/en/latest/remote_data.html#yahoo-finance\n",
    "\n",
    "https://zhuanlan.zhihu.com/p/32860089"
   ]
  },
  {
   "cell_type": "code",
   "execution_count": 4,
   "metadata": {},
   "outputs": [],
   "source": [
    "#web.get_quote_av([\"AAPL\", \"TSLA\"])"
   ]
  },
  {
   "cell_type": "markdown",
   "metadata": {},
   "source": [
    "### more data\n",
    "https://zhuanlan.zhihu.com/p/31237526\n",
    "\n"
   ]
  },
  {
   "cell_type": "code",
   "execution_count": 5,
   "metadata": {},
   "outputs": [],
   "source": [
    "import pandas_datareader as pdr"
   ]
  },
  {
   "cell_type": "code",
   "execution_count": 6,
   "metadata": {},
   "outputs": [],
   "source": [
    "alibaba = pdr.get_data_yahoo(\"BABA\")"
   ]
  },
  {
   "cell_type": "code",
   "execution_count": 7,
   "metadata": {},
   "outputs": [
    {
     "data": {
      "text/html": [
       "<div>\n",
       "<style scoped>\n",
       "    .dataframe tbody tr th:only-of-type {\n",
       "        vertical-align: middle;\n",
       "    }\n",
       "\n",
       "    .dataframe tbody tr th {\n",
       "        vertical-align: top;\n",
       "    }\n",
       "\n",
       "    .dataframe thead th {\n",
       "        text-align: right;\n",
       "    }\n",
       "</style>\n",
       "<table border=\"1\" class=\"dataframe\">\n",
       "  <thead>\n",
       "    <tr style=\"text-align: right;\">\n",
       "      <th></th>\n",
       "      <th>High</th>\n",
       "      <th>Low</th>\n",
       "      <th>Open</th>\n",
       "      <th>Close</th>\n",
       "      <th>Volume</th>\n",
       "      <th>Adj Close</th>\n",
       "    </tr>\n",
       "    <tr>\n",
       "      <th>Date</th>\n",
       "      <th></th>\n",
       "      <th></th>\n",
       "      <th></th>\n",
       "      <th></th>\n",
       "      <th></th>\n",
       "      <th></th>\n",
       "    </tr>\n",
       "  </thead>\n",
       "  <tbody>\n",
       "    <tr>\n",
       "      <th>2015-07-10</th>\n",
       "      <td>81.199997</td>\n",
       "      <td>79.839996</td>\n",
       "      <td>81.129997</td>\n",
       "      <td>80.300003</td>\n",
       "      <td>11224500</td>\n",
       "      <td>80.300003</td>\n",
       "    </tr>\n",
       "    <tr>\n",
       "      <th>2015-07-13</th>\n",
       "      <td>82.199997</td>\n",
       "      <td>80.699997</td>\n",
       "      <td>80.919998</td>\n",
       "      <td>81.860001</td>\n",
       "      <td>10350500</td>\n",
       "      <td>81.860001</td>\n",
       "    </tr>\n",
       "    <tr>\n",
       "      <th>2015-07-14</th>\n",
       "      <td>82.019997</td>\n",
       "      <td>81.129997</td>\n",
       "      <td>81.580002</td>\n",
       "      <td>81.500000</td>\n",
       "      <td>7519300</td>\n",
       "      <td>81.500000</td>\n",
       "    </tr>\n",
       "    <tr>\n",
       "      <th>2015-07-15</th>\n",
       "      <td>81.500000</td>\n",
       "      <td>80.209999</td>\n",
       "      <td>80.900002</td>\n",
       "      <td>80.730003</td>\n",
       "      <td>9514200</td>\n",
       "      <td>80.730003</td>\n",
       "    </tr>\n",
       "    <tr>\n",
       "      <th>2015-07-16</th>\n",
       "      <td>82.000000</td>\n",
       "      <td>80.900002</td>\n",
       "      <td>81.389999</td>\n",
       "      <td>81.529999</td>\n",
       "      <td>8604500</td>\n",
       "      <td>81.529999</td>\n",
       "    </tr>\n",
       "  </tbody>\n",
       "</table>\n",
       "</div>"
      ],
      "text/plain": [
       "                 High        Low       Open      Close    Volume  Adj Close\n",
       "Date                                                                       \n",
       "2015-07-10  81.199997  79.839996  81.129997  80.300003  11224500  80.300003\n",
       "2015-07-13  82.199997  80.699997  80.919998  81.860001  10350500  81.860001\n",
       "2015-07-14  82.019997  81.129997  81.580002  81.500000   7519300  81.500000\n",
       "2015-07-15  81.500000  80.209999  80.900002  80.730003   9514200  80.730003\n",
       "2015-07-16  82.000000  80.900002  81.389999  81.529999   8604500  81.529999"
      ]
     },
     "execution_count": 7,
     "metadata": {},
     "output_type": "execute_result"
    }
   ],
   "source": [
    "alibaba.head()"
   ]
  },
  {
   "cell_type": "code",
   "execution_count": null,
   "metadata": {},
   "outputs": [],
   "source": []
  }
 ],
 "metadata": {
  "kernelspec": {
   "display_name": "Python 3",
   "language": "python",
   "name": "python3"
  },
  "language_info": {
   "codemirror_mode": {
    "name": "ipython",
    "version": 3
   },
   "file_extension": ".py",
   "mimetype": "text/x-python",
   "name": "python",
   "nbconvert_exporter": "python",
   "pygments_lexer": "ipython3",
   "version": "3.7.6"
  }
 },
 "nbformat": 4,
 "nbformat_minor": 4
}
